{
  "nbformat": 4,
  "nbformat_minor": 0,
  "metadata": {
    "colab": {
      "provenance": [],
      "authorship_tag": "ABX9TyO2ZKzCT5jIiB53sNRaamfE",
      "include_colab_link": true
    },
    "kernelspec": {
      "name": "python3",
      "display_name": "Python 3"
    },
    "language_info": {
      "name": "python"
    }
  },
  "cells": [
    {
      "cell_type": "markdown",
      "metadata": {
        "id": "view-in-github",
        "colab_type": "text"
      },
      "source": [
        "<a href=\"https://colab.research.google.com/github/RM-RAMASAMY/decision_trees/blob/main/Random_Forest.ipynb\" target=\"_parent\"><img src=\"https://colab.research.google.com/assets/colab-badge.svg\" alt=\"Open In Colab\"/></a>"
      ]
    },
    {
      "cell_type": "code",
      "execution_count": 1,
      "metadata": {
        "ExecuteTime": {
          "end_time": "2020-04-12T16:49:27.604267Z",
          "start_time": "2020-04-12T16:49:25.091457Z"
        },
        "id": "sCfD2Ca4IMRZ"
      },
      "outputs": [],
      "source": [
        "import time\n",
        "start_time = time.time()\n",
        "import numpy as np\n",
        "from sklearn import datasets\n",
        "from sklearn.model_selection import train_test_split\n",
        "from sklearn.metrics import precision_score, recall_score, f1_score\n",
        "import pandas as pd\n",
        "from collections import Counter\n",
        "from sklearn.tree import DecisionTreeClassifier"
      ]
    },
    {
      "cell_type": "markdown",
      "metadata": {
        "id": "FVte8InvIMRZ"
      },
      "source": [
        "# Model Definition\n",
        "\n",
        "Using previously written Decision tree"
      ]
    },
    {
      "cell_type": "code",
      "execution_count": 2,
      "metadata": {
        "ExecuteTime": {
          "end_time": "2020-04-12T16:49:27.617602Z",
          "start_time": "2020-04-12T16:49:27.610032Z"
        },
        "id": "_ttMA2UsIMRa"
      },
      "outputs": [],
      "source": [
        "def bootstrap_sample(X, y):\n",
        "    n_samples = X.shape[0]\n",
        "    idxs = np.random.choice(n_samples, n_samples, replace=True)\n",
        "    return X[idxs], y[idxs]\n",
        "\n",
        "\n",
        "def most_common_label(y):\n",
        "    counter = Counter(y)\n",
        "    most_common = counter.most_common(1)[0][0]\n",
        "    return most_common"
      ]
    },
    {
      "cell_type": "code",
      "execution_count": 3,
      "metadata": {
        "ExecuteTime": {
          "end_time": "2020-04-12T16:49:27.819326Z",
          "start_time": "2020-04-12T16:49:27.621157Z"
        },
        "id": "V0v3wB2-IMRa"
      },
      "outputs": [],
      "source": [
        "class RandomForest:\n",
        "\n",
        "    def __init__(self, n_trees=10, min_samples_split=2,\n",
        "                 max_depth=100, n_feats=None):\n",
        "        self.n_trees = n_trees\n",
        "        self.min_samples_split = min_samples_split\n",
        "        self.max_depth = max_depth\n",
        "        self.n_feats = n_feats\n",
        "        self.trees = []\n",
        "\n",
        "    def fit(self, X, y):\n",
        "        self.trees = []\n",
        "        for _ in range(self.n_trees):\n",
        "          tree = DecisionTreeClassifier(\n",
        "              min_samples_split=self.min_samples_split,  # Minimum samples to split a node\n",
        "              max_depth=self.max_depth,                # Maximum depth of the tree\n",
        "              max_features=self.n_feats                # Number of features to consider for splits\n",
        "              )\n",
        "          X_samp, y_samp = bootstrap_sample(X, y)\n",
        "          tree.fit(X_samp, y_samp)\n",
        "          self.trees.append(tree)\n",
        "\n",
        "    def predict(self, X):\n",
        "        tree_preds = np.array([tree.predict(X) for tree in self.trees])\n",
        "        tree_preds = np.swapaxes(tree_preds, 0, 1)\n",
        "        y_pred = [most_common_label(tree_pred) for tree_pred in tree_preds]\n",
        "        return np.array(y_pred)"
      ]
    },
    {
      "cell_type": "code",
      "execution_count": 4,
      "metadata": {
        "ExecuteTime": {
          "end_time": "2020-04-12T16:49:27.994854Z",
          "start_time": "2020-04-12T16:49:27.833497Z"
        },
        "id": "uRwJQgc7IMRa"
      },
      "outputs": [],
      "source": [
        "def accuracy(y_true, y_pred):\n",
        "    accuracy = np.sum(y_true == y_pred) / len(y_true)\n",
        "    return accuracy"
      ]
    },
    {
      "cell_type": "markdown",
      "metadata": {
        "id": "tbuwhZJVIMRa"
      },
      "source": [
        "# Training and testing on Diabetes Dataset"
      ]
    },
    {
      "cell_type": "code",
      "execution_count": 5,
      "metadata": {
        "ExecuteTime": {
          "end_time": "2020-04-12T16:49:29.037211Z",
          "start_time": "2020-04-12T16:49:28.003482Z"
        },
        "id": "skW7H26gIMRa"
      },
      "outputs": [],
      "source": [
        "cols = [\"Pregnancies\", \"Glucose\", \"BloodPressure\", \"SkinThickness\",\n",
        "        \"Insulin\", \"BMI\", \"DiabetesPedigreeFunction\", \"Age\", \"Outcome\"]\n",
        "url = \"https://gist.githubusercontent.com/ktisha/c21e73a1bd1700294ef790c56c8aec1f/raw/819b69b5736821ccee93d05b51de0510bea00294/pima-indians-diabetes.csv\"\n",
        "diabetes_data = pd.read_csv(url, skiprows=9, header=None, names=cols)"
      ]
    },
    {
      "cell_type": "code",
      "execution_count": 6,
      "metadata": {
        "ExecuteTime": {
          "end_time": "2020-04-12T16:49:29.087001Z",
          "start_time": "2020-04-12T16:49:29.044736Z"
        },
        "id": "XVKYCxiaIMRa",
        "outputId": "0addb890-c2dd-4efe-e079-a6f923fc868d",
        "colab": {
          "base_uri": "https://localhost:8080/"
        }
      },
      "outputs": [
        {
          "output_type": "execute_result",
          "data": {
            "text/plain": [
              "(768, 9)"
            ]
          },
          "metadata": {},
          "execution_count": 6
        }
      ],
      "source": [
        "diabetes_data.shape"
      ]
    },
    {
      "cell_type": "code",
      "execution_count": 7,
      "metadata": {
        "ExecuteTime": {
          "end_time": "2020-04-12T16:49:29.305869Z",
          "start_time": "2020-04-12T16:49:29.103088Z"
        },
        "id": "9ol6Awb2IMRb"
      },
      "outputs": [],
      "source": [
        "X = diabetes_data[cols[:-1]].values\n",
        "y = diabetes_data[cols[-1]].values"
      ]
    },
    {
      "cell_type": "code",
      "execution_count": 8,
      "metadata": {
        "ExecuteTime": {
          "end_time": "2020-04-12T16:49:29.457842Z",
          "start_time": "2020-04-12T16:49:29.316553Z"
        },
        "id": "kYFuDSMvIMRb"
      },
      "outputs": [],
      "source": [
        "X_train, X_test, y_train, y_test = train_test_split(X, y, test_size=0.1, stratify=y, random_state=42)"
      ]
    },
    {
      "cell_type": "code",
      "execution_count": 9,
      "metadata": {
        "ExecuteTime": {
          "end_time": "2020-04-12T16:49:43.284602Z",
          "start_time": "2020-04-12T16:49:29.464289Z"
        },
        "id": "-2YzA6kjIMRb"
      },
      "outputs": [],
      "source": [
        "rnd_clf = RandomForest(max_depth=10, n_trees=10, n_feats=6)\n",
        "rnd_clf.fit(X_train, y_train)\n",
        "y_pred = rnd_clf.predict(X_test)"
      ]
    },
    {
      "cell_type": "markdown",
      "metadata": {
        "id": "s8z-1wvXIMRb"
      },
      "source": [
        "# Metrics"
      ]
    },
    {
      "cell_type": "code",
      "execution_count": 10,
      "metadata": {
        "ExecuteTime": {
          "end_time": "2020-04-12T16:49:43.300402Z",
          "start_time": "2020-04-12T16:49:43.288586Z"
        },
        "id": "p13jCMPFIMRb",
        "outputId": "77738870-3d57-41ef-d64c-879dadbefcdc",
        "colab": {
          "base_uri": "https://localhost:8080/"
        }
      },
      "outputs": [
        {
          "output_type": "stream",
          "name": "stdout",
          "text": [
            "Accuracy: 0.7532467532467533\n"
          ]
        }
      ],
      "source": [
        "print(f\"Accuracy: {accuracy(y_test, y_pred)}\")"
      ]
    },
    {
      "cell_type": "code",
      "execution_count": 11,
      "metadata": {
        "ExecuteTime": {
          "end_time": "2020-04-12T16:49:43.470452Z",
          "start_time": "2020-04-12T16:49:43.306229Z"
        },
        "id": "x3gY0LhBIMRb",
        "outputId": "d1f169be-5179-4201-d7c3-68c08f67ff77",
        "colab": {
          "base_uri": "https://localhost:8080/"
        }
      },
      "outputs": [
        {
          "output_type": "stream",
          "name": "stdout",
          "text": [
            "Precision: 0.6666666666666666\n",
            "Recall: 0.5925925925925926\n",
            "F1-Score: 0.6274509803921569\n"
          ]
        }
      ],
      "source": [
        "print(f\"Precision: {precision_score(y_test, y_pred)}\")\n",
        "print(f\"Recall: {recall_score(y_test, y_pred)}\")\n",
        "print(f\"F1-Score: {f1_score(y_test, y_pred)}\")"
      ]
    },
    {
      "cell_type": "code",
      "source": [
        "end_time = time.time()"
      ],
      "metadata": {
        "id": "d77jsADfNRui"
      },
      "execution_count": 12,
      "outputs": []
    },
    {
      "source": [
        "elapsed_time = end_time - start_time\n",
        "print(f\"Elapsed time: {elapsed_time:.4f} seconds\")"
      ],
      "cell_type": "code",
      "metadata": {
        "colab": {
          "base_uri": "https://localhost:8080/"
        },
        "id": "e-JmTTe9NTQz",
        "outputId": "112a9a94-f6a1-4f94-e918-f90c5f2bb588"
      },
      "execution_count": 13,
      "outputs": [
        {
          "output_type": "stream",
          "name": "stdout",
          "text": [
            "Elapsed time: 7.4194 seconds\n"
          ]
        }
      ]
    }
  ]
}