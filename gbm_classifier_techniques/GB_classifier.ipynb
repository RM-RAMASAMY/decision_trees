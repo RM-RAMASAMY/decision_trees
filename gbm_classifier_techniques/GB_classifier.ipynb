{
  "nbformat": 4,
  "nbformat_minor": 0,
  "metadata": {
    "colab": {
      "provenance": [],
      "authorship_tag": "ABX9TyMeJ/jrFCVwK4LkVLPIVdXZ",
      "include_colab_link": true
    },
    "kernelspec": {
      "name": "python3",
      "display_name": "Python 3"
    },
    "language_info": {
      "name": "python"
    }
  },
  "cells": [
    {
      "cell_type": "markdown",
      "metadata": {
        "id": "view-in-github",
        "colab_type": "text"
      },
      "source": [
        "<a href=\"https://colab.research.google.com/github/RM-RAMASAMY/decision_trees/blob/main/gbm_classifier_techniques/GB_classifier.ipynb\" target=\"_parent\"><img src=\"https://colab.research.google.com/assets/colab-badge.svg\" alt=\"Open In Colab\"/></a>"
      ]
    },
    {
      "cell_type": "code",
      "source": [
        "# prompt: pull dataset from the following kaggle link: https://www.kaggle.com/competitions/titanic/data\n",
        "\n",
        "# Install the Kaggle API client.\n",
        "!pip install kaggle\n",
        "\n",
        "# Upload your Kaggle API key.\n",
        "from google.colab import files\n",
        "files.upload()\n",
        "\n",
        "# Create the .kaggle directory and move the API key.\n",
        "!mkdir -p ~/.kaggle\n",
        "!mv kaggle.json ~/.kaggle/\n",
        "\n",
        "# Set permissions for the API key.\n",
        "!chmod 600 ~/.kaggle/kaggle.json\n",
        "\n",
        "# Download the Titanic dataset.\n",
        "!kaggle competitions download -c titanic -p /content/titanic_dataset"
      ],
      "metadata": {
        "colab": {
          "base_uri": "https://localhost:8080/",
          "height": 350
        },
        "id": "t4wcxWRLfIf7",
        "outputId": "bd24bfea-5887-471d-eb4b-9be3d2321c4a"
      },
      "execution_count": 1,
      "outputs": [
        {
          "output_type": "stream",
          "name": "stdout",
          "text": [
            "Requirement already satisfied: kaggle in /usr/local/lib/python3.10/dist-packages (1.6.17)\n",
            "Requirement already satisfied: six>=1.10 in /usr/local/lib/python3.10/dist-packages (from kaggle) (1.16.0)\n",
            "Requirement already satisfied: certifi>=2023.7.22 in /usr/local/lib/python3.10/dist-packages (from kaggle) (2024.8.30)\n",
            "Requirement already satisfied: python-dateutil in /usr/local/lib/python3.10/dist-packages (from kaggle) (2.8.2)\n",
            "Requirement already satisfied: requests in /usr/local/lib/python3.10/dist-packages (from kaggle) (2.32.3)\n",
            "Requirement already satisfied: tqdm in /usr/local/lib/python3.10/dist-packages (from kaggle) (4.66.6)\n",
            "Requirement already satisfied: python-slugify in /usr/local/lib/python3.10/dist-packages (from kaggle) (8.0.4)\n",
            "Requirement already satisfied: urllib3 in /usr/local/lib/python3.10/dist-packages (from kaggle) (2.2.3)\n",
            "Requirement already satisfied: bleach in /usr/local/lib/python3.10/dist-packages (from kaggle) (6.2.0)\n",
            "Requirement already satisfied: webencodings in /usr/local/lib/python3.10/dist-packages (from bleach->kaggle) (0.5.1)\n",
            "Requirement already satisfied: text-unidecode>=1.3 in /usr/local/lib/python3.10/dist-packages (from python-slugify->kaggle) (1.3)\n",
            "Requirement already satisfied: charset-normalizer<4,>=2 in /usr/local/lib/python3.10/dist-packages (from requests->kaggle) (3.4.0)\n",
            "Requirement already satisfied: idna<4,>=2.5 in /usr/local/lib/python3.10/dist-packages (from requests->kaggle) (3.10)\n"
          ]
        },
        {
          "output_type": "display_data",
          "data": {
            "text/plain": [
              "<IPython.core.display.HTML object>"
            ],
            "text/html": [
              "\n",
              "     <input type=\"file\" id=\"files-f4cc856d-d972-482a-9ee2-df92e2aaa3be\" name=\"files[]\" multiple disabled\n",
              "        style=\"border:none\" />\n",
              "     <output id=\"result-f4cc856d-d972-482a-9ee2-df92e2aaa3be\">\n",
              "      Upload widget is only available when the cell has been executed in the\n",
              "      current browser session. Please rerun this cell to enable.\n",
              "      </output>\n",
              "      <script>// Copyright 2017 Google LLC\n",
              "//\n",
              "// Licensed under the Apache License, Version 2.0 (the \"License\");\n",
              "// you may not use this file except in compliance with the License.\n",
              "// You may obtain a copy of the License at\n",
              "//\n",
              "//      http://www.apache.org/licenses/LICENSE-2.0\n",
              "//\n",
              "// Unless required by applicable law or agreed to in writing, software\n",
              "// distributed under the License is distributed on an \"AS IS\" BASIS,\n",
              "// WITHOUT WARRANTIES OR CONDITIONS OF ANY KIND, either express or implied.\n",
              "// See the License for the specific language governing permissions and\n",
              "// limitations under the License.\n",
              "\n",
              "/**\n",
              " * @fileoverview Helpers for google.colab Python module.\n",
              " */\n",
              "(function(scope) {\n",
              "function span(text, styleAttributes = {}) {\n",
              "  const element = document.createElement('span');\n",
              "  element.textContent = text;\n",
              "  for (const key of Object.keys(styleAttributes)) {\n",
              "    element.style[key] = styleAttributes[key];\n",
              "  }\n",
              "  return element;\n",
              "}\n",
              "\n",
              "// Max number of bytes which will be uploaded at a time.\n",
              "const MAX_PAYLOAD_SIZE = 100 * 1024;\n",
              "\n",
              "function _uploadFiles(inputId, outputId) {\n",
              "  const steps = uploadFilesStep(inputId, outputId);\n",
              "  const outputElement = document.getElementById(outputId);\n",
              "  // Cache steps on the outputElement to make it available for the next call\n",
              "  // to uploadFilesContinue from Python.\n",
              "  outputElement.steps = steps;\n",
              "\n",
              "  return _uploadFilesContinue(outputId);\n",
              "}\n",
              "\n",
              "// This is roughly an async generator (not supported in the browser yet),\n",
              "// where there are multiple asynchronous steps and the Python side is going\n",
              "// to poll for completion of each step.\n",
              "// This uses a Promise to block the python side on completion of each step,\n",
              "// then passes the result of the previous step as the input to the next step.\n",
              "function _uploadFilesContinue(outputId) {\n",
              "  const outputElement = document.getElementById(outputId);\n",
              "  const steps = outputElement.steps;\n",
              "\n",
              "  const next = steps.next(outputElement.lastPromiseValue);\n",
              "  return Promise.resolve(next.value.promise).then((value) => {\n",
              "    // Cache the last promise value to make it available to the next\n",
              "    // step of the generator.\n",
              "    outputElement.lastPromiseValue = value;\n",
              "    return next.value.response;\n",
              "  });\n",
              "}\n",
              "\n",
              "/**\n",
              " * Generator function which is called between each async step of the upload\n",
              " * process.\n",
              " * @param {string} inputId Element ID of the input file picker element.\n",
              " * @param {string} outputId Element ID of the output display.\n",
              " * @return {!Iterable<!Object>} Iterable of next steps.\n",
              " */\n",
              "function* uploadFilesStep(inputId, outputId) {\n",
              "  const inputElement = document.getElementById(inputId);\n",
              "  inputElement.disabled = false;\n",
              "\n",
              "  const outputElement = document.getElementById(outputId);\n",
              "  outputElement.innerHTML = '';\n",
              "\n",
              "  const pickedPromise = new Promise((resolve) => {\n",
              "    inputElement.addEventListener('change', (e) => {\n",
              "      resolve(e.target.files);\n",
              "    });\n",
              "  });\n",
              "\n",
              "  const cancel = document.createElement('button');\n",
              "  inputElement.parentElement.appendChild(cancel);\n",
              "  cancel.textContent = 'Cancel upload';\n",
              "  const cancelPromise = new Promise((resolve) => {\n",
              "    cancel.onclick = () => {\n",
              "      resolve(null);\n",
              "    };\n",
              "  });\n",
              "\n",
              "  // Wait for the user to pick the files.\n",
              "  const files = yield {\n",
              "    promise: Promise.race([pickedPromise, cancelPromise]),\n",
              "    response: {\n",
              "      action: 'starting',\n",
              "    }\n",
              "  };\n",
              "\n",
              "  cancel.remove();\n",
              "\n",
              "  // Disable the input element since further picks are not allowed.\n",
              "  inputElement.disabled = true;\n",
              "\n",
              "  if (!files) {\n",
              "    return {\n",
              "      response: {\n",
              "        action: 'complete',\n",
              "      }\n",
              "    };\n",
              "  }\n",
              "\n",
              "  for (const file of files) {\n",
              "    const li = document.createElement('li');\n",
              "    li.append(span(file.name, {fontWeight: 'bold'}));\n",
              "    li.append(span(\n",
              "        `(${file.type || 'n/a'}) - ${file.size} bytes, ` +\n",
              "        `last modified: ${\n",
              "            file.lastModifiedDate ? file.lastModifiedDate.toLocaleDateString() :\n",
              "                                    'n/a'} - `));\n",
              "    const percent = span('0% done');\n",
              "    li.appendChild(percent);\n",
              "\n",
              "    outputElement.appendChild(li);\n",
              "\n",
              "    const fileDataPromise = new Promise((resolve) => {\n",
              "      const reader = new FileReader();\n",
              "      reader.onload = (e) => {\n",
              "        resolve(e.target.result);\n",
              "      };\n",
              "      reader.readAsArrayBuffer(file);\n",
              "    });\n",
              "    // Wait for the data to be ready.\n",
              "    let fileData = yield {\n",
              "      promise: fileDataPromise,\n",
              "      response: {\n",
              "        action: 'continue',\n",
              "      }\n",
              "    };\n",
              "\n",
              "    // Use a chunked sending to avoid message size limits. See b/62115660.\n",
              "    let position = 0;\n",
              "    do {\n",
              "      const length = Math.min(fileData.byteLength - position, MAX_PAYLOAD_SIZE);\n",
              "      const chunk = new Uint8Array(fileData, position, length);\n",
              "      position += length;\n",
              "\n",
              "      const base64 = btoa(String.fromCharCode.apply(null, chunk));\n",
              "      yield {\n",
              "        response: {\n",
              "          action: 'append',\n",
              "          file: file.name,\n",
              "          data: base64,\n",
              "        },\n",
              "      };\n",
              "\n",
              "      let percentDone = fileData.byteLength === 0 ?\n",
              "          100 :\n",
              "          Math.round((position / fileData.byteLength) * 100);\n",
              "      percent.textContent = `${percentDone}% done`;\n",
              "\n",
              "    } while (position < fileData.byteLength);\n",
              "  }\n",
              "\n",
              "  // All done.\n",
              "  yield {\n",
              "    response: {\n",
              "      action: 'complete',\n",
              "    }\n",
              "  };\n",
              "}\n",
              "\n",
              "scope.google = scope.google || {};\n",
              "scope.google.colab = scope.google.colab || {};\n",
              "scope.google.colab._files = {\n",
              "  _uploadFiles,\n",
              "  _uploadFilesContinue,\n",
              "};\n",
              "})(self);\n",
              "</script> "
            ]
          },
          "metadata": {}
        },
        {
          "output_type": "stream",
          "name": "stdout",
          "text": [
            "Saving kaggle.json to kaggle.json\n",
            "Downloading titanic.zip to /content/titanic_dataset\n",
            "  0% 0.00/34.1k [00:00<?, ?B/s]\n",
            "100% 34.1k/34.1k [00:00<00:00, 6.83MB/s]\n"
          ]
        }
      ]
    },
    {
      "cell_type": "code",
      "source": [
        "# prompt: unzip the following kaggle dataset /content/titanic_dataset/titanic.zip\n",
        "\n",
        "import zipfile\n",
        "\n",
        "# Specify the path to the zip file\n",
        "zip_file_path = \"/content/titanic_dataset/titanic.zip\"\n",
        "\n",
        "# Specify the directory to extract the files to\n",
        "extract_path = \"/content/titanic_dataset\"\n",
        "\n",
        "# Create a ZipFile object\n",
        "with zipfile.ZipFile(zip_file_path, 'r') as zip_ref:\n",
        "    # Extract all the contents of the zip file to the specified directory\n",
        "    zip_ref.extractall(extract_path)"
      ],
      "metadata": {
        "id": "BhnohokXfh4d"
      },
      "execution_count": 2,
      "outputs": []
    },
    {
      "cell_type": "markdown",
      "source": [
        "#**Data preparation: **\n",
        "1. Removed columns \"Name\", \"Age\", \"SibSp\", \"Ticket\", \"Cabin\",  \"Parch\", and \"Embarked\".\n",
        "2. Convert objects to numbers with pandas.get_dummies.\n",
        "3. Filled nulls with a value of 0.0.\n",
        "4. Transformed data with MinMaxScaler() method.\n",
        "5. Randomly splited training set into train and validation subsets.\n",
        "\n",
        "#**Training Gradient Boosting classifier:**\n",
        "1. Computed the accuracy scores on train and validation sets when training with different learning rates. When learning rate was 0.5, the accuracy scores on training and validation subsets were 0.829 and 0.830, respectively.\n",
        "2. Trained Gradient Boosting classifier on training subset with parameters of criterion=\"mse\", n_estimators=20, learning_rate = 0.5, max_features=2, max_depth = 2, random_state = 0.  The average precision, recall, and  f1-scores on validation subsets were 0.83, 0.83, and 0.82, respectively. The area under ROC (AUC) was 0.88."
      ],
      "metadata": {
        "_uuid": "8d0336a19fed232f209f1607b1be60d53c8d2699",
        "_cell_guid": "25741996-6f3b-4b9d-9028-668dde4abb70",
        "id": "oEcCqGgYesze"
      }
    },
    {
      "cell_type": "code",
      "outputs": [],
      "metadata": {
        "collapsed": true,
        "_uuid": "465c72ba9a38646a1bfd615e0f734b1f5b25e163",
        "_cell_guid": "573fee8c-94f8-446f-83e4-3c8580449e52",
        "id": "hYb3zDWuesze"
      },
      "execution_count": 3,
      "source": [
        "%matplotlib notebook\n",
        "import numpy as np\n",
        "import pandas as pd\n",
        "import matplotlib.pyplot as plt"
      ]
    },
    {
      "cell_type": "code",
      "outputs": [],
      "metadata": {
        "collapsed": true,
        "_uuid": "bc076cadaaaf7574c41f7f73a54b506f7b616b79",
        "_cell_guid": "101aa076-6298-40c2-8acd-2f574ae84a92",
        "id": "9BLw0pQJesze"
      },
      "execution_count": 4,
      "source": [
        "# load data\n",
        "train = pd.read_csv(\"/content/titanic_dataset/train.csv\")\n",
        "test = pd.read_csv(\"/content/titanic_dataset/test.csv\")"
      ]
    },
    {
      "cell_type": "code",
      "outputs": [
        {
          "output_type": "stream",
          "name": "stdout",
          "text": [
            "<class 'pandas.core.frame.DataFrame'>\n",
            "RangeIndex: 891 entries, 0 to 890\n",
            "Data columns (total 12 columns):\n",
            " #   Column       Non-Null Count  Dtype  \n",
            "---  ------       --------------  -----  \n",
            " 0   PassengerId  891 non-null    int64  \n",
            " 1   Survived     891 non-null    int64  \n",
            " 2   Pclass       891 non-null    int64  \n",
            " 3   Name         891 non-null    object \n",
            " 4   Sex          891 non-null    object \n",
            " 5   Age          714 non-null    float64\n",
            " 6   SibSp        891 non-null    int64  \n",
            " 7   Parch        891 non-null    int64  \n",
            " 8   Ticket       891 non-null    object \n",
            " 9   Fare         891 non-null    float64\n",
            " 10  Cabin        204 non-null    object \n",
            " 11  Embarked     889 non-null    object \n",
            "dtypes: float64(2), int64(5), object(5)\n",
            "memory usage: 83.7+ KB\n",
            "<class 'pandas.core.frame.DataFrame'>\n",
            "RangeIndex: 418 entries, 0 to 417\n",
            "Data columns (total 11 columns):\n",
            " #   Column       Non-Null Count  Dtype  \n",
            "---  ------       --------------  -----  \n",
            " 0   PassengerId  418 non-null    int64  \n",
            " 1   Pclass       418 non-null    int64  \n",
            " 2   Name         418 non-null    object \n",
            " 3   Sex          418 non-null    object \n",
            " 4   Age          332 non-null    float64\n",
            " 5   SibSp        418 non-null    int64  \n",
            " 6   Parch        418 non-null    int64  \n",
            " 7   Ticket       418 non-null    object \n",
            " 8   Fare         417 non-null    float64\n",
            " 9   Cabin        91 non-null     object \n",
            " 10  Embarked     418 non-null    object \n",
            "dtypes: float64(2), int64(4), object(5)\n",
            "memory usage: 36.0+ KB\n"
          ]
        },
        {
          "output_type": "execute_result",
          "data": {
            "text/plain": [
              "(None, None)"
            ]
          },
          "metadata": {},
          "execution_count": 5
        }
      ],
      "metadata": {
        "_uuid": "0bdbc404bbc6f234e6b919da29c51c659f6e108d",
        "_cell_guid": "d2118b99-bee4-49b0-b9b8-20ccc88440e9",
        "id": "G5cS2TjUeszf",
        "colab": {
          "base_uri": "https://localhost:8080/"
        },
        "outputId": "c4b20446-76bf-4ecf-c722-970a1d0fa80d"
      },
      "execution_count": 5,
      "source": [
        "train.info(), test.info()"
      ]
    },
    {
      "cell_type": "code",
      "outputs": [],
      "metadata": {
        "collapsed": true,
        "_uuid": "2c4a8a2cfbec56d89dfd16ef455ec1ac7c27db8c",
        "_cell_guid": "c1c49f9f-d8a9-48b4-a9ec-af94666ae66e",
        "id": "obw4blAmeszf"
      },
      "execution_count": 6,
      "source": [
        "# set \"PassengerId\" variable as index\n",
        "train.set_index(\"PassengerId\", inplace=True)\n",
        "test.set_index(\"PassengerId\", inplace=True)"
      ]
    },
    {
      "cell_type": "code",
      "outputs": [],
      "metadata": {
        "collapsed": true,
        "_uuid": "e3e129ad55d8d366910b0822dcae221057bf46d5",
        "_cell_guid": "433dfdfd-69c6-4356-9944-58cb4eb7f871",
        "id": "y2vd470deszf"
      },
      "execution_count": 7,
      "source": [
        "# generate training target set (y_train)\n",
        "y_train = train[\"Survived\"]"
      ]
    },
    {
      "cell_type": "code",
      "outputs": [],
      "metadata": {
        "collapsed": true,
        "_uuid": "e7b1c4edc8517c9f3c6eb372cf46e5c1ea375730",
        "_cell_guid": "f66a4d77-30e8-4b56-9750-81ff73e383d8",
        "id": "zASj8mvVeszf"
      },
      "execution_count": 8,
      "source": [
        "# delete column \"Survived\" from train set\n",
        "train.drop(labels=\"Survived\", axis=1, inplace=True)"
      ]
    },
    {
      "cell_type": "code",
      "outputs": [
        {
          "output_type": "execute_result",
          "data": {
            "text/plain": [
              "((891, 10), (418, 10))"
            ]
          },
          "metadata": {},
          "execution_count": 9
        }
      ],
      "metadata": {
        "_uuid": "176ecbc24e803ebe424ee0d6d17210002251f746",
        "_cell_guid": "54ae13aa-e0c4-43e7-866a-359c125ce953",
        "id": "bPKHa34qeszf",
        "colab": {
          "base_uri": "https://localhost:8080/"
        },
        "outputId": "7ae79046-7189-42a5-e8f7-b0d9ca78793a"
      },
      "execution_count": 9,
      "source": [
        "# shapes of train and test sets\n",
        "train.shape, test.shape"
      ]
    },
    {
      "source": [
        "# join train and test sets to form a new train_test set using pd.concat\n",
        "train_test = pd.concat([train, test])"
      ],
      "cell_type": "code",
      "metadata": {
        "id": "khPlwDfCgD29"
      },
      "execution_count": 11,
      "outputs": []
    },
    {
      "cell_type": "code",
      "outputs": [],
      "metadata": {
        "collapsed": true,
        "_uuid": "258a023f94c2d30cbfb1fb81aaceb273561e107d",
        "_cell_guid": "aa2c195e-111e-4519-aac9-6fc59f88b62d",
        "id": "DAjHEx1Ieszf"
      },
      "execution_count": 12,
      "source": [
        "# delete columns that are not used as features for training and prediction\n",
        "columns_to_drop = [\"Name\", \"Age\", \"SibSp\", \"Ticket\", \"Cabin\", \"Parch\", \"Embarked\"]\n",
        "train_test.drop(labels=columns_to_drop, axis=1, inplace=True)"
      ]
    },
    {
      "cell_type": "code",
      "outputs": [],
      "metadata": {
        "collapsed": true,
        "_uuid": "c79230f80f6894022edab0d3bc2ade1d60c1bb47",
        "_cell_guid": "755b7956-e2ef-4253-af8a-e7fafed926ac",
        "id": "4F9Doyg6eszf"
      },
      "execution_count": 13,
      "source": [
        "# convert objects to numbers by pandas.get_dummies\n",
        "train_test_dummies = pd.get_dummies(train_test, columns=[\"Sex\"])"
      ]
    },
    {
      "cell_type": "code",
      "outputs": [
        {
          "output_type": "execute_result",
          "data": {
            "text/plain": [
              "(1309, 4)"
            ]
          },
          "metadata": {},
          "execution_count": 14
        }
      ],
      "metadata": {
        "_uuid": "fc0c258bbe921b0466405b3d71a7e7a4b7625a3b",
        "_cell_guid": "58b4bb8d-1e27-40ce-a5e8-fe697575e5a9",
        "id": "lF55lospeszg",
        "colab": {
          "base_uri": "https://localhost:8080/"
        },
        "outputId": "b4f68cae-d921-405b-e376-94cdc8dd4f92"
      },
      "execution_count": 14,
      "source": [
        "# check the dimension\n",
        "train_test_dummies.shape"
      ]
    },
    {
      "cell_type": "code",
      "outputs": [],
      "metadata": {
        "collapsed": true,
        "_uuid": "0028cf64a05fec2eecd4be89d26d7087fc26d14a",
        "_cell_guid": "8387bacc-5ef3-4098-932a-a1275c732548",
        "id": "ryFWeyp3eszg"
      },
      "execution_count": 15,
      "source": [
        "# replace nulls with 0.0\n",
        "train_test_dummies.fillna(value=0.0, inplace=True)"
      ]
    },
    {
      "cell_type": "code",
      "outputs": [],
      "metadata": {
        "collapsed": true,
        "_uuid": "6c4f455eaa9ddeadb6a03aeb9c10ba683b0348c3",
        "_cell_guid": "bde80620-0c0f-4173-b081-f0dc71fa3382",
        "id": "wZZlc8j6eszg"
      },
      "execution_count": 16,
      "source": [
        "# generate feature sets (X)\n",
        "X_train = train_test_dummies.values[0:891]\n",
        "X_test = train_test_dummies.values[891:]"
      ]
    },
    {
      "cell_type": "code",
      "outputs": [
        {
          "output_type": "execute_result",
          "data": {
            "text/plain": [
              "((891, 4), (418, 4))"
            ]
          },
          "metadata": {},
          "execution_count": 17
        }
      ],
      "metadata": {
        "_uuid": "edde98514a8d5e5abb08c19e44f80d48491699a9",
        "_cell_guid": "f2e35eeb-87db-4fcf-bd51-f4e397466477",
        "id": "bj4W13tveszg",
        "colab": {
          "base_uri": "https://localhost:8080/"
        },
        "outputId": "046dacb8-5c79-4926-bfe7-1e7fecbbda26"
      },
      "execution_count": 17,
      "source": [
        "X_train.shape, X_test.shape"
      ]
    },
    {
      "cell_type": "code",
      "outputs": [],
      "metadata": {
        "collapsed": true,
        "_uuid": "475f635e920374d6477069274c3a2c38c253522d",
        "_cell_guid": "54ccd884-a4cb-4e3f-8474-cacc138d0516",
        "id": "57qmXyzNeszg"
      },
      "execution_count": 18,
      "source": [
        "# transform data\n",
        "from sklearn.preprocessing import MinMaxScaler\n",
        "\n",
        "scaler = MinMaxScaler()\n",
        "X_train_scale = scaler.fit_transform(X_train)\n",
        "X_test_scale = scaler.transform(X_test)"
      ]
    },
    {
      "cell_type": "code",
      "outputs": [],
      "metadata": {
        "collapsed": true,
        "_uuid": "88c7474b84140769950a4f9ab4c6b569e1055344",
        "_cell_guid": "0267668a-2d0b-4100-9f01-d62ea223f255",
        "id": "L2w-DkEPeszg"
      },
      "execution_count": 19,
      "source": [
        "# split training feature and target sets into training and validation subsets\n",
        "from sklearn.model_selection import train_test_split\n",
        "\n",
        "X_train_sub, X_validation_sub, y_train_sub, y_validation_sub = train_test_split(X_train_scale, y_train, random_state=0)"
      ]
    },
    {
      "cell_type": "code",
      "outputs": [],
      "metadata": {
        "collapsed": true,
        "_uuid": "ffc7904a739f25f9c3bea12c8656593b567a62f9",
        "_cell_guid": "f7b8480f-29c5-4836-9413-6948ddabbe59",
        "id": "Xcwq5LLheszg"
      },
      "execution_count": 20,
      "source": [
        "# import machine learning algorithms\n",
        "from sklearn.ensemble import GradientBoostingClassifier\n",
        "from sklearn.metrics import classification_report, confusion_matrix, roc_curve, auc"
      ]
    },
    {
      "cell_type": "code",
      "outputs": [
        {
          "output_type": "stream",
          "name": "stdout",
          "text": [
            "Learning rate:  0.05\n",
            "Accuracy score (training): 0.789\n",
            "Accuracy score (validation): 0.780\n",
            "\n",
            "Learning rate:  0.1\n",
            "Accuracy score (training): 0.792\n",
            "Accuracy score (validation): 0.780\n",
            "\n",
            "Learning rate:  0.25\n",
            "Accuracy score (training): 0.816\n",
            "Accuracy score (validation): 0.803\n",
            "\n",
            "Learning rate:  0.5\n",
            "Accuracy score (training): 0.826\n",
            "Accuracy score (validation): 0.834\n",
            "\n",
            "Learning rate:  0.75\n",
            "Accuracy score (training): 0.831\n",
            "Accuracy score (validation): 0.789\n",
            "\n",
            "Learning rate:  1\n",
            "Accuracy score (training): 0.831\n",
            "Accuracy score (validation): 0.789\n",
            "\n"
          ]
        }
      ],
      "metadata": {
        "_uuid": "9fde35f84e892377ae4ae8960531278069706c0f",
        "_cell_guid": "2148d2b3-de61-4a6e-91d7-620abfda60cf",
        "id": "z2plzzvXeszg",
        "colab": {
          "base_uri": "https://localhost:8080/"
        },
        "outputId": "8b480bf6-323f-4088-9646-c50886fcb22a"
      },
      "execution_count": 21,
      "source": [
        "# train with Gradient Boosting algorithm\n",
        "# compute the accuracy scores on train and validation sets when training with different learning rates\n",
        "\n",
        "learning_rates = [0.05, 0.1, 0.25, 0.5, 0.75, 1]\n",
        "for learning_rate in learning_rates:\n",
        "    gb = GradientBoostingClassifier(n_estimators=20, learning_rate = learning_rate, max_features=2, max_depth = 2, random_state = 0)\n",
        "    gb.fit(X_train_sub, y_train_sub)\n",
        "    print(\"Learning rate: \", learning_rate)\n",
        "    print(\"Accuracy score (training): {0:.3f}\".format(gb.score(X_train_sub, y_train_sub)))\n",
        "    print(\"Accuracy score (validation): {0:.3f}\".format(gb.score(X_validation_sub, y_validation_sub)))\n",
        "    print()"
      ]
    },
    {
      "cell_type": "code",
      "outputs": [
        {
          "output_type": "stream",
          "name": "stdout",
          "text": [
            "Confusion Matrix:\n",
            "[[131   8]\n",
            " [ 29  55]]\n",
            "\n",
            "Classification Report\n",
            "              precision    recall  f1-score   support\n",
            "\n",
            "           0       0.82      0.94      0.88       139\n",
            "           1       0.87      0.65      0.75        84\n",
            "\n",
            "    accuracy                           0.83       223\n",
            "   macro avg       0.85      0.80      0.81       223\n",
            "weighted avg       0.84      0.83      0.83       223\n",
            "\n"
          ]
        }
      ],
      "metadata": {
        "_uuid": "bac0432eeb71e6153020ad7768187bdd35da29b2",
        "_cell_guid": "16c7ddeb-6461-4913-ac65-9d4195ab3558",
        "id": "N8nc0MaZeszg",
        "colab": {
          "base_uri": "https://localhost:8080/"
        },
        "outputId": "fb05d553-291c-4b35-a434-8d31363194d1"
      },
      "execution_count": 22,
      "source": [
        "# Output confusion matrix and classification report of Gradient Boosting algorithm on validation set\n",
        "\n",
        "gb = GradientBoostingClassifier(n_estimators=20, learning_rate = 0.5, max_features=2, max_depth = 2, random_state = 0)\n",
        "gb.fit(X_train_sub, y_train_sub)\n",
        "predictions = gb.predict(X_validation_sub)\n",
        "\n",
        "print(\"Confusion Matrix:\")\n",
        "print(confusion_matrix(y_validation_sub, predictions))\n",
        "print()\n",
        "print(\"Classification Report\")\n",
        "print(classification_report(y_validation_sub, predictions))"
      ]
    },
    {
      "cell_type": "code",
      "outputs": [
        {
          "output_type": "stream",
          "name": "stdout",
          "text": [
            "Area under ROC curve = 0.88\n"
          ]
        }
      ],
      "metadata": {
        "_uuid": "7b44cefe0aa39f660454b78c153b2aba69865c35",
        "_cell_guid": "f5645dd3-0257-4774-bf1f-65c45f7ca118",
        "id": "8qVMxbyveszg",
        "colab": {
          "base_uri": "https://localhost:8080/"
        },
        "outputId": "d72dbd49-61a6-4e32-8fdc-9299bf51958f"
      },
      "execution_count": 23,
      "source": [
        "# ROC curve and Area-Under-Curve (AUC)\n",
        "\n",
        "y_scores_gb = gb.decision_function(X_validation_sub)\n",
        "fpr_gb, tpr_gb, _ = roc_curve(y_validation_sub, y_scores_gb)\n",
        "roc_auc_gb = auc(fpr_gb, tpr_gb)\n",
        "\n",
        "print(\"Area under ROC curve = {:0.2f}\".format(roc_auc_gb))"
      ]
    }
  ]
}