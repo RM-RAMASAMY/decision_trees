{
  "nbformat": 4,
  "nbformat_minor": 0,
  "metadata": {
    "colab": {
      "provenance": [],
      "authorship_tag": "ABX9TyMnUfdP0knkdb1B4++DAPUH",
      "include_colab_link": true
    },
    "kernelspec": {
      "name": "python3",
      "display_name": "Python 3"
    },
    "language_info": {
      "name": "python"
    },
    "widgets": {
      "application/vnd.jupyter.widget-state+json": {
        "7ceacb42c74047fca775e6cf50e34b83": {
          "model_module": "catboost-widget",
          "model_name": "CatboostWidgetModel",
          "model_module_version": "^1.0.0",
          "state": {
            "_dom_classes": [],
            "_model_module": "catboost-widget",
            "_model_module_version": "^1.0.0",
            "_model_name": "CatboostWidgetModel",
            "_view_count": null,
            "_view_module": "catboost-widget",
            "_view_module_version": "^1.0.0",
            "_view_name": "CatboostWidgetView",
            "data": {
              "catboost_info": {
                "path": "catboost_info",
                "name": "catboost_info",
                "content": {
                  "passed_iterations": 49,
                  "total_iterations": 50,
                  "data": {
                    "iterations": [
                      {
                        "learn": [
                          0.3969304954,
                          0.9418271982
                        ],
                        "iteration": 0,
                        "passed_time": 0.02786888091,
                        "remaining_time": 1.365575165,
                        "test": [
                          0.3945769185,
                          0.5907031948,
                          0.943240769
                        ]
                      },
                      {
                        "learn": [
                          0.2933474641,
                          0.9418271982
                        ],
                        "iteration": 1,
                        "passed_time": 0.04560162407,
                        "remaining_time": 1.094438978,
                        "test": [
                          0.2899250988,
                          0.6430234065,
                          0.943240769
                        ]
                      },
                      {
                        "learn": [
                          0.2466417255,
                          0.9418271982
                        ],
                        "iteration": 2,
                        "passed_time": 0.06205059418,
                        "remaining_time": 0.9721259754,
                        "test": [
                          0.2428163104,
                          0.6875432664,
                          0.943240769
                        ]
                      },
                      {
                        "learn": [
                          0.2142165323,
                          0.9418271982
                        ],
                        "iteration": 3,
                        "passed_time": 0.07876106736,
                        "remaining_time": 0.9057522747,
                        "test": [
                          0.2071024489,
                          0.7787097818,
                          0.943240769
                        ]
                      },
                      {
                        "learn": [
                          0.197156308,
                          0.9420942209
                        ],
                        "iteration": 4,
                        "passed_time": 0.09389604721,
                        "remaining_time": 0.8450644249,
                        "test": [
                          0.1891439005,
                          0.8147211554,
                          0.943240769
                        ]
                      },
                      {
                        "learn": [
                          0.1893637184,
                          0.9425901202
                        ],
                        "iteration": 5,
                        "passed_time": 0.1104169398,
                        "remaining_time": 0.8097242248,
                        "test": [
                          0.1803756191,
                          0.8232337727,
                          0.9433933476
                        ]
                      },
                      {
                        "learn": [
                          0.1834199799,
                          0.9438107953
                        ],
                        "iteration": 6,
                        "passed_time": 0.1270082894,
                        "remaining_time": 0.7801937778,
                        "test": [
                          0.1736867436,
                          0.8296739493,
                          0.9456820262
                        ]
                      },
                      {
                        "learn": [
                          0.1817675693,
                          0.9443829868
                        ],
                        "iteration": 7,
                        "passed_time": 0.1434618464,
                        "remaining_time": 0.7531746934,
                        "test": [
                          0.1716029607,
                          0.8275217158,
                          0.9453768691
                        ]
                      },
                      {
                        "learn": [
                          0.1798744946,
                          0.9446118634
                        ],
                        "iteration": 8,
                        "passed_time": 0.1594602418,
                        "remaining_time": 0.7264299904,
                        "test": [
                          0.1695555632,
                          0.8279417699,
                          0.9452242905
                        ]
                      },
                      {
                        "learn": [
                          0.1771475036,
                          0.9448788861
                        ],
                        "iteration": 9,
                        "passed_time": 0.1756265571,
                        "remaining_time": 0.7025062285,
                        "test": [
                          0.1655671158,
                          0.8421170725,
                          0.9465974977
                        ]
                      },
                      {
                        "learn": [
                          0.1755969003,
                          0.9451459088
                        ],
                        "iteration": 10,
                        "passed_time": 0.1920298178,
                        "remaining_time": 0.6808329905,
                        "test": [
                          0.163587575,
                          0.8494230127,
                          0.9464449191
                        ]
                      },
                      {
                        "learn": [
                          0.1752024414,
                          0.9450314705
                        ],
                        "iteration": 11,
                        "passed_time": 0.2067264219,
                        "remaining_time": 0.6546336693,
                        "test": [
                          0.1630647513,
                          0.850386615,
                          0.9465974977
                        ]
                      },
                      {
                        "learn": [
                          0.1748601333,
                          0.9455273698
                        ],
                        "iteration": 12,
                        "passed_time": 0.2222226419,
                        "remaining_time": 0.632479827,
                        "test": [
                          0.1622077535,
                          0.8530299986,
                          0.9465974977
                        ]
                      },
                      {
                        "learn": [
                          0.1743090506,
                          0.9454510776
                        ],
                        "iteration": 13,
                        "passed_time": 0.2356715805,
                        "remaining_time": 0.6060126355,
                        "test": [
                          0.1607046891,
                          0.855857319,
                          0.9464449191
                        ]
                      },
                      {
                        "learn": [
                          0.1729752413,
                          0.9454129315
                        ],
                        "iteration": 14,
                        "passed_time": 0.2505369153,
                        "remaining_time": 0.5845861356,
                        "test": [
                          0.1598236548,
                          0.8568261394,
                          0.9458346048
                        ]
                      },
                      {
                        "learn": [
                          0.1726361046,
                          0.9456418081
                        ],
                        "iteration": 15,
                        "passed_time": 0.2660822844,
                        "remaining_time": 0.5654248544,
                        "test": [
                          0.1593568598,
                          0.85779409,
                          0.9455294477
                        ]
                      },
                      {
                        "learn": [
                          0.1723376425,
                          0.9461758535
                        ],
                        "iteration": 16,
                        "passed_time": 0.281351001,
                        "remaining_time": 0.5461519431,
                        "test": [
                          0.159432766,
                          0.8567504775,
                          0.9452242905
                        ]
                      },
                      {
                        "learn": [
                          0.1717438725,
                          0.9458706847
                        ],
                        "iteration": 17,
                        "passed_time": 0.2980499443,
                        "remaining_time": 0.5298665677,
                        "test": [
                          0.158895051,
                          0.8573425102,
                          0.9458346048
                        ]
                      },
                      {
                        "learn": [
                          0.1717321149,
                          0.9459088308
                        ],
                        "iteration": 18,
                        "passed_time": 0.323388493,
                        "remaining_time": 0.527633857,
                        "test": [
                          0.1588620737,
                          0.8573594689,
                          0.9458346048
                        ]
                      },
                      {
                        "learn": [
                          0.1716964629,
                          0.9461758535
                        ],
                        "iteration": 19,
                        "passed_time": 0.3388819042,
                        "remaining_time": 0.5083228563,
                        "test": [
                          0.158777922,
                          0.8573516418,
                          0.9462923406
                        ]
                      },
                      {
                        "learn": [
                          0.1709201793,
                          0.9468624833
                        ],
                        "iteration": 20,
                        "passed_time": 0.3540921198,
                        "remaining_time": 0.4889843559,
                        "test": [
                          0.1588972234,
                          0.8574029527,
                          0.9464449191
                        ]
                      },
                      {
                        "learn": [
                          0.1702719908,
                          0.9469387755
                        ],
                        "iteration": 21,
                        "passed_time": 0.3688621125,
                        "remaining_time": 0.4694608705,
                        "test": [
                          0.1576268408,
                          0.8593386366,
                          0.9462923406
                        ]
                      },
                      {
                        "learn": [
                          0.1699475401,
                          0.9471676521
                        ],
                        "iteration": 22,
                        "passed_time": 0.3871846848,
                        "remaining_time": 0.4545211517,
                        "test": [
                          0.1573850379,
                          0.8598667481,
                          0.9464449191
                        ]
                      },
                      {
                        "learn": [
                          0.1692589523,
                          0.9472439443
                        ],
                        "iteration": 23,
                        "passed_time": 0.4077572997,
                        "remaining_time": 0.4417370747,
                        "test": [
                          0.1570435056,
                          0.859884359,
                          0.9475129692
                        ]
                      },
                      {
                        "learn": [
                          0.169166691,
                          0.9474346748
                        ],
                        "iteration": 24,
                        "passed_time": 0.4255921862,
                        "remaining_time": 0.4255921862,
                        "test": [
                          0.1569916436,
                          0.8601243899,
                          0.9473603906
                        ]
                      },
                      {
                        "learn": [
                          0.1691200291,
                          0.9474728209
                        ],
                        "iteration": 25,
                        "passed_time": 0.4403429625,
                        "remaining_time": 0.4064704269,
                        "test": [
                          0.1569331781,
                          0.8603539847,
                          0.947207812
                        ]
                      },
                      {
                        "learn": [
                          0.1690894481,
                          0.9474346748
                        ],
                        "iteration": 26,
                        "passed_time": 0.4549292194,
                        "remaining_time": 0.387532298,
                        "test": [
                          0.1569416437,
                          0.860363986,
                          0.947207812
                        ]
                      },
                      {
                        "learn": [
                          0.1684307577,
                          0.9480068663
                        ],
                        "iteration": 27,
                        "passed_time": 0.4701450318,
                        "remaining_time": 0.3693996679,
                        "test": [
                          0.1566965996,
                          0.8614141211,
                          0.9470552334
                        ]
                      },
                      {
                        "learn": [
                          0.1684094293,
                          0.9478542819
                        ],
                        "iteration": 28,
                        "passed_time": 0.4846330206,
                        "remaining_time": 0.3509411529,
                        "test": [
                          0.1566063782,
                          0.8616658927,
                          0.9469026549
                        ]
                      },
                      {
                        "learn": [
                          0.1683841413,
                          0.9479687202
                        ],
                        "iteration": 29,
                        "passed_time": 0.5000428387,
                        "remaining_time": 0.3333618924,
                        "test": [
                          0.1565686571,
                          0.8617254655,
                          0.947207812
                        ]
                      },
                      {
                        "learn": [
                          0.1683656323,
                          0.9479687202
                        ],
                        "iteration": 30,
                        "passed_time": 0.5145647461,
                        "remaining_time": 0.3153783928,
                        "test": [
                          0.1565492603,
                          0.8618002578,
                          0.9473603906
                        ]
                      },
                      {
                        "learn": [
                          0.1681629474,
                          0.9478161358
                        ],
                        "iteration": 31,
                        "passed_time": 0.5332845125,
                        "remaining_time": 0.2999725383,
                        "test": [
                          0.1565567014,
                          0.8617891694,
                          0.9478181263
                        ]
                      },
                      {
                        "learn": [
                          0.1681544779,
                          0.9478161358
                        ],
                        "iteration": 32,
                        "passed_time": 0.5492662922,
                        "remaining_time": 0.2829553627,
                        "test": [
                          0.1565445076,
                          0.8617904739,
                          0.9478181263
                        ]
                      },
                      {
                        "learn": [
                          0.1675386214,
                          0.9480068663
                        ],
                        "iteration": 33,
                        "passed_time": 0.5642295689,
                        "remaining_time": 0.2655197971,
                        "test": [
                          0.1557469802,
                          0.8638172565,
                          0.9476655478
                        ]
                      },
                      {
                        "learn": [
                          0.1674039698,
                          0.9479687202
                        ],
                        "iteration": 34,
                        "passed_time": 0.5802976806,
                        "remaining_time": 0.248699006,
                        "test": [
                          0.1558336502,
                          0.8633624153,
                          0.9478181263
                        ]
                      },
                      {
                        "learn": [
                          0.1673925452,
                          0.9479305741
                        ],
                        "iteration": 35,
                        "passed_time": 0.594888818,
                        "remaining_time": 0.2313456514,
                        "test": [
                          0.1558184809,
                          0.8633593715,
                          0.9479707049
                        ]
                      },
                      {
                        "learn": [
                          0.1673398145,
                          0.948273889
                        ],
                        "iteration": 36,
                        "passed_time": 0.6094979119,
                        "remaining_time": 0.214147915,
                        "test": [
                          0.1558587021,
                          0.8633167573,
                          0.9484284406
                        ]
                      },
                      {
                        "learn": [
                          0.1672478149,
                          0.9481213046
                        ],
                        "iteration": 37,
                        "passed_time": 0.6240951615,
                        "remaining_time": 0.1970826826,
                        "test": [
                          0.1558881398,
                          0.8634267714,
                          0.9475129692
                        ]
                      },
                      {
                        "learn": [
                          0.1670878225,
                          0.948273889
                        ],
                        "iteration": 38,
                        "passed_time": 0.6392162799,
                        "remaining_time": 0.1802917713,
                        "test": [
                          0.1559433771,
                          0.8632223973,
                          0.9476655478
                        ]
                      },
                      {
                        "learn": [
                          0.1668228862,
                          0.9481975968
                        ],
                        "iteration": 39,
                        "passed_time": 0.6540960907,
                        "remaining_time": 0.1635240227,
                        "test": [
                          0.1558071345,
                          0.8633319766,
                          0.9481232835
                        ]
                      },
                      {
                        "learn": [
                          0.166755426,
                          0.948273889
                        ],
                        "iteration": 40,
                        "passed_time": 0.6685935495,
                        "remaining_time": 0.1467644377,
                        "test": [
                          0.1558672607,
                          0.863207178,
                          0.9481232835
                        ]
                      },
                      {
                        "learn": [
                          0.1666558974,
                          0.9484646195
                        ],
                        "iteration": 41,
                        "passed_time": 0.6858317811,
                        "remaining_time": 0.130634625,
                        "test": [
                          0.1557870709,
                          0.8632130483,
                          0.9476655478
                        ]
                      },
                      {
                        "learn": [
                          0.1659566675,
                          0.9484264734
                        ],
                        "iteration": 42,
                        "passed_time": 0.7009004353,
                        "remaining_time": 0.1141000709,
                        "test": [
                          0.1562042828,
                          0.8622620563,
                          0.9485810192
                        ]
                      },
                      {
                        "learn": [
                          0.1659128586,
                          0.9484264734
                        ],
                        "iteration": 43,
                        "passed_time": 0.7154243589,
                        "remaining_time": 0.09755786713,
                        "test": [
                          0.1562230805,
                          0.8622255299,
                          0.9487335978
                        ]
                      },
                      {
                        "learn": [
                          0.1659056554,
                          0.9484264734
                        ],
                        "iteration": 44,
                        "passed_time": 0.7303952049,
                        "remaining_time": 0.08115502276,
                        "test": [
                          0.1562440376,
                          0.8621555209,
                          0.9487335978
                        ]
                      },
                      {
                        "learn": [
                          0.1658599248,
                          0.9485027656
                        ],
                        "iteration": 45,
                        "passed_time": 0.7450222717,
                        "remaining_time": 0.06478454537,
                        "test": [
                          0.1561265171,
                          0.8623542421,
                          0.9487335978
                        ]
                      },
                      {
                        "learn": [
                          0.1658249419,
                          0.9484646195
                        ],
                        "iteration": 46,
                        "passed_time": 0.7599230078,
                        "remaining_time": 0.0485057239,
                        "test": [
                          0.1561402017,
                          0.862314237,
                          0.9485810192
                        ]
                      },
                      {
                        "learn": [
                          0.165787158,
                          0.9484264734
                        ],
                        "iteration": 47,
                        "passed_time": 0.7748834138,
                        "remaining_time": 0.03228680891,
                        "test": [
                          0.1561980634,
                          0.862260317,
                          0.9482758621
                        ]
                      },
                      {
                        "learn": [
                          0.1657553269,
                          0.9485409117
                        ],
                        "iteration": 48,
                        "passed_time": 0.7895714322,
                        "remaining_time": 0.0161137027,
                        "test": [
                          0.1562552968,
                          0.862262926,
                          0.9482758621
                        ]
                      },
                      {
                        "learn": [
                          0.1657131115,
                          0.9485027656
                        ],
                        "iteration": 49,
                        "passed_time": 0.8046227998,
                        "remaining_time": 0,
                        "test": [
                          0.1562600739,
                          0.8622381402,
                          0.9484284406
                        ]
                      }
                    ],
                    "meta": {
                      "test_sets": [
                        "test"
                      ],
                      "test_metrics": [
                        {
                          "best_value": "Min",
                          "name": "Logloss"
                        },
                        {
                          "best_value": "Max",
                          "name": "AUC"
                        },
                        {
                          "best_value": "Max",
                          "name": "Accuracy"
                        }
                      ],
                      "learn_metrics": [
                        {
                          "best_value": "Min",
                          "name": "Logloss"
                        },
                        {
                          "best_value": "Max",
                          "name": "Accuracy"
                        }
                      ],
                      "launch_mode": "Train",
                      "parameters": "",
                      "iteration_count": 50,
                      "learn_sets": [
                        "learn"
                      ],
                      "name": "experiment"
                    }
                  }
                }
              }
            },
            "layout": "IPY_MODEL_5cccaeb6b11b4239a45527fadc18ca50"
          }
        }
      }
    }
  },
  "cells": [
    {
      "cell_type": "markdown",
      "metadata": {
        "id": "view-in-github",
        "colab_type": "text"
      },
      "source": [
        "<a href=\"https://colab.research.google.com/github/RM-RAMASAMY/decision_trees/blob/main/gbm_classifier_techniques/catboost_classifier.ipynb\" target=\"_parent\"><img src=\"https://colab.research.google.com/assets/colab-badge.svg\" alt=\"Open In Colab\"/></a>"
      ]
    },
    {
      "cell_type": "code",
      "source": [
        "from google.colab import output\n",
        "output.enable_custom_widget_manager()"
      ],
      "metadata": {
        "id": "Ii0xbRFUEWLA"
      },
      "execution_count": 25,
      "outputs": []
    },
    {
      "cell_type": "code",
      "execution_count": 1,
      "metadata": {
        "colab": {
          "base_uri": "https://localhost:8080/",
          "height": 420
        },
        "id": "eT9OCp-b3AbM",
        "outputId": "641102b0-1356-4304-8f0b-fefa7fdd5c8b"
      },
      "outputs": [
        {
          "output_type": "stream",
          "name": "stdout",
          "text": [
            "Requirement already satisfied: kaggle in /usr/local/lib/python3.10/dist-packages (1.6.17)\n",
            "Requirement already satisfied: six>=1.10 in /usr/local/lib/python3.10/dist-packages (from kaggle) (1.17.0)\n",
            "Requirement already satisfied: certifi>=2023.7.22 in /usr/local/lib/python3.10/dist-packages (from kaggle) (2024.8.30)\n",
            "Requirement already satisfied: python-dateutil in /usr/local/lib/python3.10/dist-packages (from kaggle) (2.8.2)\n",
            "Requirement already satisfied: requests in /usr/local/lib/python3.10/dist-packages (from kaggle) (2.32.3)\n",
            "Requirement already satisfied: tqdm in /usr/local/lib/python3.10/dist-packages (from kaggle) (4.66.6)\n",
            "Requirement already satisfied: python-slugify in /usr/local/lib/python3.10/dist-packages (from kaggle) (8.0.4)\n",
            "Requirement already satisfied: urllib3 in /usr/local/lib/python3.10/dist-packages (from kaggle) (2.2.3)\n",
            "Requirement already satisfied: bleach in /usr/local/lib/python3.10/dist-packages (from kaggle) (6.2.0)\n",
            "Requirement already satisfied: webencodings in /usr/local/lib/python3.10/dist-packages (from bleach->kaggle) (0.5.1)\n",
            "Requirement already satisfied: text-unidecode>=1.3 in /usr/local/lib/python3.10/dist-packages (from python-slugify->kaggle) (1.3)\n",
            "Requirement already satisfied: charset-normalizer<4,>=2 in /usr/local/lib/python3.10/dist-packages (from requests->kaggle) (3.4.0)\n",
            "Requirement already satisfied: idna<4,>=2.5 in /usr/local/lib/python3.10/dist-packages (from requests->kaggle) (3.10)\n"
          ]
        },
        {
          "output_type": "display_data",
          "data": {
            "text/plain": [
              "<IPython.core.display.HTML object>"
            ],
            "text/html": [
              "\n",
              "     <input type=\"file\" id=\"files-1ffeb355-2529-4418-acd8-8b275ae2b685\" name=\"files[]\" multiple disabled\n",
              "        style=\"border:none\" />\n",
              "     <output id=\"result-1ffeb355-2529-4418-acd8-8b275ae2b685\">\n",
              "      Upload widget is only available when the cell has been executed in the\n",
              "      current browser session. Please rerun this cell to enable.\n",
              "      </output>\n",
              "      <script>// Copyright 2017 Google LLC\n",
              "//\n",
              "// Licensed under the Apache License, Version 2.0 (the \"License\");\n",
              "// you may not use this file except in compliance with the License.\n",
              "// You may obtain a copy of the License at\n",
              "//\n",
              "//      http://www.apache.org/licenses/LICENSE-2.0\n",
              "//\n",
              "// Unless required by applicable law or agreed to in writing, software\n",
              "// distributed under the License is distributed on an \"AS IS\" BASIS,\n",
              "// WITHOUT WARRANTIES OR CONDITIONS OF ANY KIND, either express or implied.\n",
              "// See the License for the specific language governing permissions and\n",
              "// limitations under the License.\n",
              "\n",
              "/**\n",
              " * @fileoverview Helpers for google.colab Python module.\n",
              " */\n",
              "(function(scope) {\n",
              "function span(text, styleAttributes = {}) {\n",
              "  const element = document.createElement('span');\n",
              "  element.textContent = text;\n",
              "  for (const key of Object.keys(styleAttributes)) {\n",
              "    element.style[key] = styleAttributes[key];\n",
              "  }\n",
              "  return element;\n",
              "}\n",
              "\n",
              "// Max number of bytes which will be uploaded at a time.\n",
              "const MAX_PAYLOAD_SIZE = 100 * 1024;\n",
              "\n",
              "function _uploadFiles(inputId, outputId) {\n",
              "  const steps = uploadFilesStep(inputId, outputId);\n",
              "  const outputElement = document.getElementById(outputId);\n",
              "  // Cache steps on the outputElement to make it available for the next call\n",
              "  // to uploadFilesContinue from Python.\n",
              "  outputElement.steps = steps;\n",
              "\n",
              "  return _uploadFilesContinue(outputId);\n",
              "}\n",
              "\n",
              "// This is roughly an async generator (not supported in the browser yet),\n",
              "// where there are multiple asynchronous steps and the Python side is going\n",
              "// to poll for completion of each step.\n",
              "// This uses a Promise to block the python side on completion of each step,\n",
              "// then passes the result of the previous step as the input to the next step.\n",
              "function _uploadFilesContinue(outputId) {\n",
              "  const outputElement = document.getElementById(outputId);\n",
              "  const steps = outputElement.steps;\n",
              "\n",
              "  const next = steps.next(outputElement.lastPromiseValue);\n",
              "  return Promise.resolve(next.value.promise).then((value) => {\n",
              "    // Cache the last promise value to make it available to the next\n",
              "    // step of the generator.\n",
              "    outputElement.lastPromiseValue = value;\n",
              "    return next.value.response;\n",
              "  });\n",
              "}\n",
              "\n",
              "/**\n",
              " * Generator function which is called between each async step of the upload\n",
              " * process.\n",
              " * @param {string} inputId Element ID of the input file picker element.\n",
              " * @param {string} outputId Element ID of the output display.\n",
              " * @return {!Iterable<!Object>} Iterable of next steps.\n",
              " */\n",
              "function* uploadFilesStep(inputId, outputId) {\n",
              "  const inputElement = document.getElementById(inputId);\n",
              "  inputElement.disabled = false;\n",
              "\n",
              "  const outputElement = document.getElementById(outputId);\n",
              "  outputElement.innerHTML = '';\n",
              "\n",
              "  const pickedPromise = new Promise((resolve) => {\n",
              "    inputElement.addEventListener('change', (e) => {\n",
              "      resolve(e.target.files);\n",
              "    });\n",
              "  });\n",
              "\n",
              "  const cancel = document.createElement('button');\n",
              "  inputElement.parentElement.appendChild(cancel);\n",
              "  cancel.textContent = 'Cancel upload';\n",
              "  const cancelPromise = new Promise((resolve) => {\n",
              "    cancel.onclick = () => {\n",
              "      resolve(null);\n",
              "    };\n",
              "  });\n",
              "\n",
              "  // Wait for the user to pick the files.\n",
              "  const files = yield {\n",
              "    promise: Promise.race([pickedPromise, cancelPromise]),\n",
              "    response: {\n",
              "      action: 'starting',\n",
              "    }\n",
              "  };\n",
              "\n",
              "  cancel.remove();\n",
              "\n",
              "  // Disable the input element since further picks are not allowed.\n",
              "  inputElement.disabled = true;\n",
              "\n",
              "  if (!files) {\n",
              "    return {\n",
              "      response: {\n",
              "        action: 'complete',\n",
              "      }\n",
              "    };\n",
              "  }\n",
              "\n",
              "  for (const file of files) {\n",
              "    const li = document.createElement('li');\n",
              "    li.append(span(file.name, {fontWeight: 'bold'}));\n",
              "    li.append(span(\n",
              "        `(${file.type || 'n/a'}) - ${file.size} bytes, ` +\n",
              "        `last modified: ${\n",
              "            file.lastModifiedDate ? file.lastModifiedDate.toLocaleDateString() :\n",
              "                                    'n/a'} - `));\n",
              "    const percent = span('0% done');\n",
              "    li.appendChild(percent);\n",
              "\n",
              "    outputElement.appendChild(li);\n",
              "\n",
              "    const fileDataPromise = new Promise((resolve) => {\n",
              "      const reader = new FileReader();\n",
              "      reader.onload = (e) => {\n",
              "        resolve(e.target.result);\n",
              "      };\n",
              "      reader.readAsArrayBuffer(file);\n",
              "    });\n",
              "    // Wait for the data to be ready.\n",
              "    let fileData = yield {\n",
              "      promise: fileDataPromise,\n",
              "      response: {\n",
              "        action: 'continue',\n",
              "      }\n",
              "    };\n",
              "\n",
              "    // Use a chunked sending to avoid message size limits. See b/62115660.\n",
              "    let position = 0;\n",
              "    do {\n",
              "      const length = Math.min(fileData.byteLength - position, MAX_PAYLOAD_SIZE);\n",
              "      const chunk = new Uint8Array(fileData, position, length);\n",
              "      position += length;\n",
              "\n",
              "      const base64 = btoa(String.fromCharCode.apply(null, chunk));\n",
              "      yield {\n",
              "        response: {\n",
              "          action: 'append',\n",
              "          file: file.name,\n",
              "          data: base64,\n",
              "        },\n",
              "      };\n",
              "\n",
              "      let percentDone = fileData.byteLength === 0 ?\n",
              "          100 :\n",
              "          Math.round((position / fileData.byteLength) * 100);\n",
              "      percent.textContent = `${percentDone}% done`;\n",
              "\n",
              "    } while (position < fileData.byteLength);\n",
              "  }\n",
              "\n",
              "  // All done.\n",
              "  yield {\n",
              "    response: {\n",
              "      action: 'complete',\n",
              "    }\n",
              "  };\n",
              "}\n",
              "\n",
              "scope.google = scope.google || {};\n",
              "scope.google.colab = scope.google.colab || {};\n",
              "scope.google.colab._files = {\n",
              "  _uploadFiles,\n",
              "  _uploadFilesContinue,\n",
              "};\n",
              "})(self);\n",
              "</script> "
            ]
          },
          "metadata": {}
        },
        {
          "output_type": "stream",
          "name": "stdout",
          "text": [
            "Saving kaggle.json to kaggle.json\n",
            "Downloading amazon-employee-access-challenge.zip to /content\n",
            "  0% 0.00/1.53M [00:00<?, ?B/s]\n",
            "100% 1.53M/1.53M [00:00<00:00, 90.7MB/s]\n",
            "Archive:  amazon-employee-access-challenge.zip\n",
            "  inflating: sampleSubmission.csv    \n",
            "  inflating: test.csv                \n",
            "  inflating: train.csv               \n"
          ]
        }
      ],
      "source": [
        "# prompt: pull data from https://www.kaggle.com/competitions/amazon-employee-access-challenge/data\n",
        "\n",
        "!pip install kaggle\n",
        "\n",
        "# Upload your kaggle.json file (API key)\n",
        "from google.colab import files\n",
        "files.upload()\n",
        "\n",
        "# Create the .kaggle directory and move the JSON file\n",
        "!mkdir -p ~/.kaggle\n",
        "!mv kaggle.json ~/.kaggle/\n",
        "!chmod 600 ~/.kaggle/kaggle.json\n",
        "\n",
        "# Download the dataset\n",
        "!kaggle competitions download -c amazon-employee-access-challenge\n",
        "\n",
        "# Unzip the downloaded files\n",
        "!unzip amazon-employee-access-challenge.zip"
      ]
    },
    {
      "metadata": {
        "id": "INK9I2Jn3cqM"
      },
      "cell_type": "markdown",
      "source": [
        "<a class=\"anchor\" id=\"0\"></a>\n",
        "# **CatBoost Classifier in Python**\n",
        "\n",
        "In this kernel, we will discuss an open sourced library - **CatBoost** developed and contributed by Yandex. CatBoost can use categorical features directly and is scalable in nature."
      ]
    },
    {
      "metadata": {
        "id": "WHpyXJhb3cqN"
      },
      "cell_type": "markdown",
      "source": [
        "# **1. Introduction to CatBoost** <a class=\"anchor\" id=\"1\"></a>\n",
        "\n",
        "\n",
        "- CatBoost documentation says that-\n",
        "\n",
        "  **\"CatBoost is a high-performance open source library for gradient boosting on decision trees.\"\"**\n",
        "  \n",
        "  \n",
        "- So, CatBoost is an algorithm for gradient boosting on decision trees.\n",
        "\n",
        "\n",
        "- It is a readymade classifier in scikit-learn’s conventions terms that would deal with categorical features automatically.\n",
        "\n",
        "\n",
        "- It can easily integrate with deep learning frameworks like Google’s TensorFlow and Apple’s Core ML.\n",
        "\n",
        "\n",
        "- It can work with diverse data types to help solve a wide range of problems (described later) that businesses face today.\n",
        "\n",
        "\n",
        "- It is developed by Yandex researchers and engineers, and is used for search, recommendation systems, personal assistant, self-driving cars, weather prediction and many other tasks.\n",
        "\n",
        "\n",
        "- Also, it provides best-in-class accuracy.\n",
        "\n",
        "\n",
        "- It is especially powerful in two ways:\n",
        "\n",
        "\n",
        "  - 1.It yields state-of-the-art results without extensive data training typically required by other machine learning methods, and\n",
        "  \n",
        "  - 2.Provides powerful out-of-the-box support for the more descriptive data formats that accompany many business problems.\n",
        "\n",
        "\n",
        "- **“CatBoost”** name comes from two words - **“Category”** and **“Boosting”**.\n",
        "\n",
        "\n",
        "- It works well with multiple categories of data, such as audio, text, image including historical data.\n",
        "\n",
        "\n",
        "- **“Boost”** comes from gradient boosting machine learning algorithm as this library is based on gradient boosting library. Gradient boosting is a powerful machine learning algorithm that is widely applied to multiple types of business challenges like fraud detection, recommendation items, forecasting and it performs well also. It can also return very good results with relatively less data, unlike DL models that need to learn from a massive amount of data.\n",
        "\n",
        "\n",
        "- It is in open-source and can be used by anyone."
      ]
    },
    {
      "metadata": {
        "id": "qKPiv_Ty3cqO"
      },
      "cell_type": "markdown",
      "source": [
        "# **2. Advantages of CatBoost library** <a class=\"anchor\" id=\"2\"></a>\n",
        "\n",
        "\n",
        "\n",
        "\n",
        "Advantages of CatBoost library are as follows:-\n",
        "\n",
        "\n",
        "- **Performance**: CatBoost provides state of the art results and it is competitive with any leading machine learning algorithm on the performance front.\n",
        "\n",
        "\n",
        "- **Handling Categorical features automatically**: We can use CatBoost without any explicit pre-processing to convert categories into numbers. CatBoost converts categorical values into numbers using various statistics on combinations of categorical features and combinations of categorical and numerical features.\n",
        "\n",
        "\n",
        "- **Robust**: It reduces the need for extensive hyper-parameter tuning and lower the chances of overfitting also which leads to more generalized models. Although, CatBoost has multiple parameters to tune and it contains parameters like the number of trees, learning rate, regularization, tree depth, fold size, bagging temperature and others.\n",
        "\n",
        "\n",
        "- **Easy-to-use**: We can use CatBoost from the command line, using an user-friendly API for both Python and R.\n"
      ]
    },
    {
      "metadata": {
        "id": "BDP3_l_S3cqO"
      },
      "cell_type": "markdown",
      "source": [
        "# **3. Comparision of CatBoost and other Boosting algorithms** <a class=\"anchor\" id=\"3\"></a>\n",
        "\n",
        "\n",
        "\n",
        "\n",
        "- We have multiple boosting libraries like XGBoost, H2O and LightGBM and all of these perform well on variety of problems.\n",
        "\n",
        "- CatBoost developer have compared the performance with competitors on standard ML datasets.\n",
        "\n",
        "- This comparision is depicted in the following diagram:\n",
        "\n"
      ]
    },
    {
      "metadata": {
        "id": "7pwSxY6x3cqO"
      },
      "cell_type": "markdown",
      "source": [
        "![Comparision of CatBoost and other Boosting algorithms](https://s3-ap-south-1.amazonaws.com/av-blog-media/wp-content/uploads/2017/08/13153401/Screen-Shot-2017-08-13-at-3.33.33-PM-768x443.png)"
      ]
    },
    {
      "metadata": {
        "id": "CdvyIM9S3cqO"
      },
      "cell_type": "markdown",
      "source": [
        "- The comparison above shows the log-loss value for test data and it is lowest in the case of CatBoost in most cases. It clearly signifies that CatBoost mostly performs better for both tuned and default models.\n",
        "\n",
        "- In addition to this, CatBoost does not require conversion of data set to any specific format like XGBoost and LightGBM."
      ]
    },
    {
      "metadata": {
        "id": "MVrthhJL3cqO"
      },
      "cell_type": "markdown",
      "source": [
        "# **4. Implementation of CatBoost in Python** <a class=\"anchor\" id=\"4\"></a>\n",
        "\n",
        "\n",
        "\n",
        "\n",
        "- Now, we will present implementation of CatBoost in Python.\n",
        "\n",
        "- The first step is to load the required libraries."
      ]
    },
    {
      "metadata": {
        "id": "4aAgKrod3cqO"
      },
      "cell_type": "markdown",
      "source": [
        "### **4.1 Load libraries** <a class=\"anchor\" id=\"4.1\"></a>\n",
        "\n"
      ]
    },
    {
      "metadata": {
        "_uuid": "8f2839f25d086af736a60e9eeb907d3b93b6e0e5",
        "_cell_guid": "b1076dfc-b9ad-4769-8c92-a6c4dae69d19",
        "trusted": true,
        "id": "7NcneEM03cqP"
      },
      "cell_type": "code",
      "source": [
        "# This Python 3 environment comes with many helpful analytics libraries installed\n",
        "# It is defined by the kaggle/python docker image: https://github.com/kaggle/docker-python\n",
        "# For example, here's several helpful packages to load in\n",
        "\n",
        "import numpy as np # linear algebra\n",
        "import pandas as pd # data processing, CSV file I/O (e.g. pd.read_csv)"
      ],
      "execution_count": 4,
      "outputs": []
    },
    {
      "metadata": {
        "id": "sgy87Gp93cqP"
      },
      "cell_type": "markdown",
      "source": [
        "### **4.2 Read dataset** <a class=\"anchor\" id=\"4.2\"></a>\n",
        "\n"
      ]
    },
    {
      "metadata": {
        "trusted": true,
        "id": "GoJrbMfi3cqP"
      },
      "cell_type": "code",
      "source": [
        "train_df = pd.read_csv('train.csv')"
      ],
      "execution_count": 5,
      "outputs": []
    },
    {
      "metadata": {
        "trusted": true,
        "id": "WBEjU98s3cqP"
      },
      "cell_type": "code",
      "source": [
        "test_df = pd.read_csv('test.csv')"
      ],
      "execution_count": 6,
      "outputs": []
    },
    {
      "metadata": {
        "id": "HQLQWYob3cqP"
      },
      "cell_type": "markdown",
      "source": [
        "### **4.3 EDA** <a class=\"anchor\" id=\"4.3\"></a>\n",
        "\n",
        "\n",
        "\n",
        "\n",
        "- Now, that we have imported our dataset, its time to gain some insights about our data.\n",
        "\n",
        "- Let's preview the dataset."
      ]
    },
    {
      "metadata": {
        "id": "kDsDLfMH3cqP"
      },
      "cell_type": "markdown",
      "source": [
        "### **Preview the dataset**"
      ]
    },
    {
      "metadata": {
        "trusted": true,
        "id": "7492lWdY3cqP",
        "colab": {
          "base_uri": "https://localhost:8080/",
          "height": 206
        },
        "outputId": "2d5fb92c-f40b-4570-e869-7505ec32a7c6"
      },
      "cell_type": "code",
      "source": [
        "train_df.head()"
      ],
      "execution_count": 7,
      "outputs": [
        {
          "output_type": "execute_result",
          "data": {
            "text/plain": [
              "   ACTION  RESOURCE  MGR_ID  ROLE_ROLLUP_1  ROLE_ROLLUP_2  ROLE_DEPTNAME  \\\n",
              "0       1     39353   85475         117961         118300         123472   \n",
              "1       1     17183    1540         117961         118343         123125   \n",
              "2       1     36724   14457         118219         118220         117884   \n",
              "3       1     36135    5396         117961         118343         119993   \n",
              "4       1     42680    5905         117929         117930         119569   \n",
              "\n",
              "   ROLE_TITLE  ROLE_FAMILY_DESC  ROLE_FAMILY  ROLE_CODE  \n",
              "0      117905            117906       290919     117908  \n",
              "1      118536            118536       308574     118539  \n",
              "2      117879            267952        19721     117880  \n",
              "3      118321            240983       290919     118322  \n",
              "4      119323            123932        19793     119325  "
            ],
            "text/html": [
              "\n",
              "  <div id=\"df-7dc8a7a0-a777-4ab2-945e-319363471a41\" class=\"colab-df-container\">\n",
              "    <div>\n",
              "<style scoped>\n",
              "    .dataframe tbody tr th:only-of-type {\n",
              "        vertical-align: middle;\n",
              "    }\n",
              "\n",
              "    .dataframe tbody tr th {\n",
              "        vertical-align: top;\n",
              "    }\n",
              "\n",
              "    .dataframe thead th {\n",
              "        text-align: right;\n",
              "    }\n",
              "</style>\n",
              "<table border=\"1\" class=\"dataframe\">\n",
              "  <thead>\n",
              "    <tr style=\"text-align: right;\">\n",
              "      <th></th>\n",
              "      <th>ACTION</th>\n",
              "      <th>RESOURCE</th>\n",
              "      <th>MGR_ID</th>\n",
              "      <th>ROLE_ROLLUP_1</th>\n",
              "      <th>ROLE_ROLLUP_2</th>\n",
              "      <th>ROLE_DEPTNAME</th>\n",
              "      <th>ROLE_TITLE</th>\n",
              "      <th>ROLE_FAMILY_DESC</th>\n",
              "      <th>ROLE_FAMILY</th>\n",
              "      <th>ROLE_CODE</th>\n",
              "    </tr>\n",
              "  </thead>\n",
              "  <tbody>\n",
              "    <tr>\n",
              "      <th>0</th>\n",
              "      <td>1</td>\n",
              "      <td>39353</td>\n",
              "      <td>85475</td>\n",
              "      <td>117961</td>\n",
              "      <td>118300</td>\n",
              "      <td>123472</td>\n",
              "      <td>117905</td>\n",
              "      <td>117906</td>\n",
              "      <td>290919</td>\n",
              "      <td>117908</td>\n",
              "    </tr>\n",
              "    <tr>\n",
              "      <th>1</th>\n",
              "      <td>1</td>\n",
              "      <td>17183</td>\n",
              "      <td>1540</td>\n",
              "      <td>117961</td>\n",
              "      <td>118343</td>\n",
              "      <td>123125</td>\n",
              "      <td>118536</td>\n",
              "      <td>118536</td>\n",
              "      <td>308574</td>\n",
              "      <td>118539</td>\n",
              "    </tr>\n",
              "    <tr>\n",
              "      <th>2</th>\n",
              "      <td>1</td>\n",
              "      <td>36724</td>\n",
              "      <td>14457</td>\n",
              "      <td>118219</td>\n",
              "      <td>118220</td>\n",
              "      <td>117884</td>\n",
              "      <td>117879</td>\n",
              "      <td>267952</td>\n",
              "      <td>19721</td>\n",
              "      <td>117880</td>\n",
              "    </tr>\n",
              "    <tr>\n",
              "      <th>3</th>\n",
              "      <td>1</td>\n",
              "      <td>36135</td>\n",
              "      <td>5396</td>\n",
              "      <td>117961</td>\n",
              "      <td>118343</td>\n",
              "      <td>119993</td>\n",
              "      <td>118321</td>\n",
              "      <td>240983</td>\n",
              "      <td>290919</td>\n",
              "      <td>118322</td>\n",
              "    </tr>\n",
              "    <tr>\n",
              "      <th>4</th>\n",
              "      <td>1</td>\n",
              "      <td>42680</td>\n",
              "      <td>5905</td>\n",
              "      <td>117929</td>\n",
              "      <td>117930</td>\n",
              "      <td>119569</td>\n",
              "      <td>119323</td>\n",
              "      <td>123932</td>\n",
              "      <td>19793</td>\n",
              "      <td>119325</td>\n",
              "    </tr>\n",
              "  </tbody>\n",
              "</table>\n",
              "</div>\n",
              "    <div class=\"colab-df-buttons\">\n",
              "\n",
              "  <div class=\"colab-df-container\">\n",
              "    <button class=\"colab-df-convert\" onclick=\"convertToInteractive('df-7dc8a7a0-a777-4ab2-945e-319363471a41')\"\n",
              "            title=\"Convert this dataframe to an interactive table.\"\n",
              "            style=\"display:none;\">\n",
              "\n",
              "  <svg xmlns=\"http://www.w3.org/2000/svg\" height=\"24px\" viewBox=\"0 -960 960 960\">\n",
              "    <path d=\"M120-120v-720h720v720H120Zm60-500h600v-160H180v160Zm220 220h160v-160H400v160Zm0 220h160v-160H400v160ZM180-400h160v-160H180v160Zm440 0h160v-160H620v160ZM180-180h160v-160H180v160Zm440 0h160v-160H620v160Z\"/>\n",
              "  </svg>\n",
              "    </button>\n",
              "\n",
              "  <style>\n",
              "    .colab-df-container {\n",
              "      display:flex;\n",
              "      gap: 12px;\n",
              "    }\n",
              "\n",
              "    .colab-df-convert {\n",
              "      background-color: #E8F0FE;\n",
              "      border: none;\n",
              "      border-radius: 50%;\n",
              "      cursor: pointer;\n",
              "      display: none;\n",
              "      fill: #1967D2;\n",
              "      height: 32px;\n",
              "      padding: 0 0 0 0;\n",
              "      width: 32px;\n",
              "    }\n",
              "\n",
              "    .colab-df-convert:hover {\n",
              "      background-color: #E2EBFA;\n",
              "      box-shadow: 0px 1px 2px rgba(60, 64, 67, 0.3), 0px 1px 3px 1px rgba(60, 64, 67, 0.15);\n",
              "      fill: #174EA6;\n",
              "    }\n",
              "\n",
              "    .colab-df-buttons div {\n",
              "      margin-bottom: 4px;\n",
              "    }\n",
              "\n",
              "    [theme=dark] .colab-df-convert {\n",
              "      background-color: #3B4455;\n",
              "      fill: #D2E3FC;\n",
              "    }\n",
              "\n",
              "    [theme=dark] .colab-df-convert:hover {\n",
              "      background-color: #434B5C;\n",
              "      box-shadow: 0px 1px 3px 1px rgba(0, 0, 0, 0.15);\n",
              "      filter: drop-shadow(0px 1px 2px rgba(0, 0, 0, 0.3));\n",
              "      fill: #FFFFFF;\n",
              "    }\n",
              "  </style>\n",
              "\n",
              "    <script>\n",
              "      const buttonEl =\n",
              "        document.querySelector('#df-7dc8a7a0-a777-4ab2-945e-319363471a41 button.colab-df-convert');\n",
              "      buttonEl.style.display =\n",
              "        google.colab.kernel.accessAllowed ? 'block' : 'none';\n",
              "\n",
              "      async function convertToInteractive(key) {\n",
              "        const element = document.querySelector('#df-7dc8a7a0-a777-4ab2-945e-319363471a41');\n",
              "        const dataTable =\n",
              "          await google.colab.kernel.invokeFunction('convertToInteractive',\n",
              "                                                    [key], {});\n",
              "        if (!dataTable) return;\n",
              "\n",
              "        const docLinkHtml = 'Like what you see? Visit the ' +\n",
              "          '<a target=\"_blank\" href=https://colab.research.google.com/notebooks/data_table.ipynb>data table notebook</a>'\n",
              "          + ' to learn more about interactive tables.';\n",
              "        element.innerHTML = '';\n",
              "        dataTable['output_type'] = 'display_data';\n",
              "        await google.colab.output.renderOutput(dataTable, element);\n",
              "        const docLink = document.createElement('div');\n",
              "        docLink.innerHTML = docLinkHtml;\n",
              "        element.appendChild(docLink);\n",
              "      }\n",
              "    </script>\n",
              "  </div>\n",
              "\n",
              "\n",
              "<div id=\"df-662c4706-39ed-4c5f-ad23-7460ad35d13d\">\n",
              "  <button class=\"colab-df-quickchart\" onclick=\"quickchart('df-662c4706-39ed-4c5f-ad23-7460ad35d13d')\"\n",
              "            title=\"Suggest charts\"\n",
              "            style=\"display:none;\">\n",
              "\n",
              "<svg xmlns=\"http://www.w3.org/2000/svg\" height=\"24px\"viewBox=\"0 0 24 24\"\n",
              "     width=\"24px\">\n",
              "    <g>\n",
              "        <path d=\"M19 3H5c-1.1 0-2 .9-2 2v14c0 1.1.9 2 2 2h14c1.1 0 2-.9 2-2V5c0-1.1-.9-2-2-2zM9 17H7v-7h2v7zm4 0h-2V7h2v10zm4 0h-2v-4h2v4z\"/>\n",
              "    </g>\n",
              "</svg>\n",
              "  </button>\n",
              "\n",
              "<style>\n",
              "  .colab-df-quickchart {\n",
              "      --bg-color: #E8F0FE;\n",
              "      --fill-color: #1967D2;\n",
              "      --hover-bg-color: #E2EBFA;\n",
              "      --hover-fill-color: #174EA6;\n",
              "      --disabled-fill-color: #AAA;\n",
              "      --disabled-bg-color: #DDD;\n",
              "  }\n",
              "\n",
              "  [theme=dark] .colab-df-quickchart {\n",
              "      --bg-color: #3B4455;\n",
              "      --fill-color: #D2E3FC;\n",
              "      --hover-bg-color: #434B5C;\n",
              "      --hover-fill-color: #FFFFFF;\n",
              "      --disabled-bg-color: #3B4455;\n",
              "      --disabled-fill-color: #666;\n",
              "  }\n",
              "\n",
              "  .colab-df-quickchart {\n",
              "    background-color: var(--bg-color);\n",
              "    border: none;\n",
              "    border-radius: 50%;\n",
              "    cursor: pointer;\n",
              "    display: none;\n",
              "    fill: var(--fill-color);\n",
              "    height: 32px;\n",
              "    padding: 0;\n",
              "    width: 32px;\n",
              "  }\n",
              "\n",
              "  .colab-df-quickchart:hover {\n",
              "    background-color: var(--hover-bg-color);\n",
              "    box-shadow: 0 1px 2px rgba(60, 64, 67, 0.3), 0 1px 3px 1px rgba(60, 64, 67, 0.15);\n",
              "    fill: var(--button-hover-fill-color);\n",
              "  }\n",
              "\n",
              "  .colab-df-quickchart-complete:disabled,\n",
              "  .colab-df-quickchart-complete:disabled:hover {\n",
              "    background-color: var(--disabled-bg-color);\n",
              "    fill: var(--disabled-fill-color);\n",
              "    box-shadow: none;\n",
              "  }\n",
              "\n",
              "  .colab-df-spinner {\n",
              "    border: 2px solid var(--fill-color);\n",
              "    border-color: transparent;\n",
              "    border-bottom-color: var(--fill-color);\n",
              "    animation:\n",
              "      spin 1s steps(1) infinite;\n",
              "  }\n",
              "\n",
              "  @keyframes spin {\n",
              "    0% {\n",
              "      border-color: transparent;\n",
              "      border-bottom-color: var(--fill-color);\n",
              "      border-left-color: var(--fill-color);\n",
              "    }\n",
              "    20% {\n",
              "      border-color: transparent;\n",
              "      border-left-color: var(--fill-color);\n",
              "      border-top-color: var(--fill-color);\n",
              "    }\n",
              "    30% {\n",
              "      border-color: transparent;\n",
              "      border-left-color: var(--fill-color);\n",
              "      border-top-color: var(--fill-color);\n",
              "      border-right-color: var(--fill-color);\n",
              "    }\n",
              "    40% {\n",
              "      border-color: transparent;\n",
              "      border-right-color: var(--fill-color);\n",
              "      border-top-color: var(--fill-color);\n",
              "    }\n",
              "    60% {\n",
              "      border-color: transparent;\n",
              "      border-right-color: var(--fill-color);\n",
              "    }\n",
              "    80% {\n",
              "      border-color: transparent;\n",
              "      border-right-color: var(--fill-color);\n",
              "      border-bottom-color: var(--fill-color);\n",
              "    }\n",
              "    90% {\n",
              "      border-color: transparent;\n",
              "      border-bottom-color: var(--fill-color);\n",
              "    }\n",
              "  }\n",
              "</style>\n",
              "\n",
              "  <script>\n",
              "    async function quickchart(key) {\n",
              "      const quickchartButtonEl =\n",
              "        document.querySelector('#' + key + ' button');\n",
              "      quickchartButtonEl.disabled = true;  // To prevent multiple clicks.\n",
              "      quickchartButtonEl.classList.add('colab-df-spinner');\n",
              "      try {\n",
              "        const charts = await google.colab.kernel.invokeFunction(\n",
              "            'suggestCharts', [key], {});\n",
              "      } catch (error) {\n",
              "        console.error('Error during call to suggestCharts:', error);\n",
              "      }\n",
              "      quickchartButtonEl.classList.remove('colab-df-spinner');\n",
              "      quickchartButtonEl.classList.add('colab-df-quickchart-complete');\n",
              "    }\n",
              "    (() => {\n",
              "      let quickchartButtonEl =\n",
              "        document.querySelector('#df-662c4706-39ed-4c5f-ad23-7460ad35d13d button');\n",
              "      quickchartButtonEl.style.display =\n",
              "        google.colab.kernel.accessAllowed ? 'block' : 'none';\n",
              "    })();\n",
              "  </script>\n",
              "</div>\n",
              "\n",
              "    </div>\n",
              "  </div>\n"
            ],
            "application/vnd.google.colaboratory.intrinsic+json": {
              "type": "dataframe",
              "variable_name": "train_df",
              "summary": "{\n  \"name\": \"train_df\",\n  \"rows\": 32769,\n  \"fields\": [\n    {\n      \"column\": \"ACTION\",\n      \"properties\": {\n        \"dtype\": \"number\",\n        \"std\": 0,\n        \"min\": 0,\n        \"max\": 1,\n        \"num_unique_values\": 2,\n        \"samples\": [\n          0,\n          1\n        ],\n        \"semantic_type\": \"\",\n        \"description\": \"\"\n      }\n    },\n    {\n      \"column\": \"RESOURCE\",\n      \"properties\": {\n        \"dtype\": \"number\",\n        \"std\": 34173,\n        \"min\": 0,\n        \"max\": 312153,\n        \"num_unique_values\": 7518,\n        \"samples\": [\n          79616,\n          35921\n        ],\n        \"semantic_type\": \"\",\n        \"description\": \"\"\n      }\n    },\n    {\n      \"column\": \"MGR_ID\",\n      \"properties\": {\n        \"dtype\": \"number\",\n        \"std\": 35928,\n        \"min\": 25,\n        \"max\": 311696,\n        \"num_unique_values\": 4243,\n        \"samples\": [\n          15768,\n          94919\n        ],\n        \"semantic_type\": \"\",\n        \"description\": \"\"\n      }\n    },\n    {\n      \"column\": \"ROLE_ROLLUP_1\",\n      \"properties\": {\n        \"dtype\": \"number\",\n        \"std\": 10875,\n        \"min\": 4292,\n        \"max\": 311178,\n        \"num_unique_values\": 128,\n        \"samples\": [\n          119691,\n          117935\n        ],\n        \"semantic_type\": \"\",\n        \"description\": \"\"\n      }\n    },\n    {\n      \"column\": \"ROLE_ROLLUP_2\",\n      \"properties\": {\n        \"dtype\": \"number\",\n        \"std\": 4551,\n        \"min\": 23779,\n        \"max\": 286791,\n        \"num_unique_values\": 177,\n        \"samples\": [\n          118225,\n          119597\n        ],\n        \"semantic_type\": \"\",\n        \"description\": \"\"\n      }\n    },\n    {\n      \"column\": \"ROLE_DEPTNAME\",\n      \"properties\": {\n        \"dtype\": \"number\",\n        \"std\": 18961,\n        \"min\": 4674,\n        \"max\": 286792,\n        \"num_unique_values\": 449,\n        \"samples\": [\n          121216,\n          119424\n        ],\n        \"semantic_type\": \"\",\n        \"description\": \"\"\n      }\n    },\n    {\n      \"column\": \"ROLE_TITLE\",\n      \"properties\": {\n        \"dtype\": \"number\",\n        \"std\": 31036,\n        \"min\": 117879,\n        \"max\": 311867,\n        \"num_unique_values\": 343,\n        \"samples\": [\n          119782,\n          118636\n        ],\n        \"semantic_type\": \"\",\n        \"description\": \"\"\n      }\n    },\n    {\n      \"column\": \"ROLE_FAMILY_DESC\",\n      \"properties\": {\n        \"dtype\": \"number\",\n        \"std\": 69509,\n        \"min\": 4673,\n        \"max\": 311867,\n        \"num_unique_values\": 2358,\n        \"samples\": [\n          122092,\n          120812\n        ],\n        \"semantic_type\": \"\",\n        \"description\": \"\"\n      }\n    },\n    {\n      \"column\": \"ROLE_FAMILY\",\n      \"properties\": {\n        \"dtype\": \"number\",\n        \"std\": 100488,\n        \"min\": 3130,\n        \"max\": 308574,\n        \"num_unique_values\": 67,\n        \"samples\": [\n          119184,\n          118643\n        ],\n        \"semantic_type\": \"\",\n        \"description\": \"\"\n      }\n    },\n    {\n      \"column\": \"ROLE_CODE\",\n      \"properties\": {\n        \"dtype\": \"number\",\n        \"std\": 5784,\n        \"min\": 117880,\n        \"max\": 270691,\n        \"num_unique_values\": 343,\n        \"samples\": [\n          119785,\n          118639\n        ],\n        \"semantic_type\": \"\",\n        \"description\": \"\"\n      }\n    }\n  ]\n}"
            }
          },
          "metadata": {},
          "execution_count": 7
        }
      ]
    },
    {
      "metadata": {
        "trusted": true,
        "id": "tDm5JdNx3cqP",
        "colab": {
          "base_uri": "https://localhost:8080/",
          "height": 206
        },
        "outputId": "6062c07f-c68d-4c0c-80f4-c8556f3381c9"
      },
      "cell_type": "code",
      "source": [
        "test_df.head()"
      ],
      "execution_count": 8,
      "outputs": [
        {
          "output_type": "execute_result",
          "data": {
            "text/plain": [
              "   id  RESOURCE  MGR_ID  ROLE_ROLLUP_1  ROLE_ROLLUP_2  ROLE_DEPTNAME  \\\n",
              "0   1     78766   72734         118079         118080         117878   \n",
              "1   2     40644    4378         117961         118327         118507   \n",
              "2   3     75443    2395         117961         118300         119488   \n",
              "3   4     43219   19986         117961         118225         118403   \n",
              "4   5     42093   50015         117961         118343         119598   \n",
              "\n",
              "   ROLE_TITLE  ROLE_FAMILY_DESC  ROLE_FAMILY  ROLE_CODE  \n",
              "0      117879            118177        19721     117880  \n",
              "1      118863            122008       118398     118865  \n",
              "2      118172            301534       249618     118175  \n",
              "3      120773            136187       118960     120774  \n",
              "4      118422            300136       118424     118425  "
            ],
            "text/html": [
              "\n",
              "  <div id=\"df-c236d562-7ca3-4664-9d55-f965ba730fc6\" class=\"colab-df-container\">\n",
              "    <div>\n",
              "<style scoped>\n",
              "    .dataframe tbody tr th:only-of-type {\n",
              "        vertical-align: middle;\n",
              "    }\n",
              "\n",
              "    .dataframe tbody tr th {\n",
              "        vertical-align: top;\n",
              "    }\n",
              "\n",
              "    .dataframe thead th {\n",
              "        text-align: right;\n",
              "    }\n",
              "</style>\n",
              "<table border=\"1\" class=\"dataframe\">\n",
              "  <thead>\n",
              "    <tr style=\"text-align: right;\">\n",
              "      <th></th>\n",
              "      <th>id</th>\n",
              "      <th>RESOURCE</th>\n",
              "      <th>MGR_ID</th>\n",
              "      <th>ROLE_ROLLUP_1</th>\n",
              "      <th>ROLE_ROLLUP_2</th>\n",
              "      <th>ROLE_DEPTNAME</th>\n",
              "      <th>ROLE_TITLE</th>\n",
              "      <th>ROLE_FAMILY_DESC</th>\n",
              "      <th>ROLE_FAMILY</th>\n",
              "      <th>ROLE_CODE</th>\n",
              "    </tr>\n",
              "  </thead>\n",
              "  <tbody>\n",
              "    <tr>\n",
              "      <th>0</th>\n",
              "      <td>1</td>\n",
              "      <td>78766</td>\n",
              "      <td>72734</td>\n",
              "      <td>118079</td>\n",
              "      <td>118080</td>\n",
              "      <td>117878</td>\n",
              "      <td>117879</td>\n",
              "      <td>118177</td>\n",
              "      <td>19721</td>\n",
              "      <td>117880</td>\n",
              "    </tr>\n",
              "    <tr>\n",
              "      <th>1</th>\n",
              "      <td>2</td>\n",
              "      <td>40644</td>\n",
              "      <td>4378</td>\n",
              "      <td>117961</td>\n",
              "      <td>118327</td>\n",
              "      <td>118507</td>\n",
              "      <td>118863</td>\n",
              "      <td>122008</td>\n",
              "      <td>118398</td>\n",
              "      <td>118865</td>\n",
              "    </tr>\n",
              "    <tr>\n",
              "      <th>2</th>\n",
              "      <td>3</td>\n",
              "      <td>75443</td>\n",
              "      <td>2395</td>\n",
              "      <td>117961</td>\n",
              "      <td>118300</td>\n",
              "      <td>119488</td>\n",
              "      <td>118172</td>\n",
              "      <td>301534</td>\n",
              "      <td>249618</td>\n",
              "      <td>118175</td>\n",
              "    </tr>\n",
              "    <tr>\n",
              "      <th>3</th>\n",
              "      <td>4</td>\n",
              "      <td>43219</td>\n",
              "      <td>19986</td>\n",
              "      <td>117961</td>\n",
              "      <td>118225</td>\n",
              "      <td>118403</td>\n",
              "      <td>120773</td>\n",
              "      <td>136187</td>\n",
              "      <td>118960</td>\n",
              "      <td>120774</td>\n",
              "    </tr>\n",
              "    <tr>\n",
              "      <th>4</th>\n",
              "      <td>5</td>\n",
              "      <td>42093</td>\n",
              "      <td>50015</td>\n",
              "      <td>117961</td>\n",
              "      <td>118343</td>\n",
              "      <td>119598</td>\n",
              "      <td>118422</td>\n",
              "      <td>300136</td>\n",
              "      <td>118424</td>\n",
              "      <td>118425</td>\n",
              "    </tr>\n",
              "  </tbody>\n",
              "</table>\n",
              "</div>\n",
              "    <div class=\"colab-df-buttons\">\n",
              "\n",
              "  <div class=\"colab-df-container\">\n",
              "    <button class=\"colab-df-convert\" onclick=\"convertToInteractive('df-c236d562-7ca3-4664-9d55-f965ba730fc6')\"\n",
              "            title=\"Convert this dataframe to an interactive table.\"\n",
              "            style=\"display:none;\">\n",
              "\n",
              "  <svg xmlns=\"http://www.w3.org/2000/svg\" height=\"24px\" viewBox=\"0 -960 960 960\">\n",
              "    <path d=\"M120-120v-720h720v720H120Zm60-500h600v-160H180v160Zm220 220h160v-160H400v160Zm0 220h160v-160H400v160ZM180-400h160v-160H180v160Zm440 0h160v-160H620v160ZM180-180h160v-160H180v160Zm440 0h160v-160H620v160Z\"/>\n",
              "  </svg>\n",
              "    </button>\n",
              "\n",
              "  <style>\n",
              "    .colab-df-container {\n",
              "      display:flex;\n",
              "      gap: 12px;\n",
              "    }\n",
              "\n",
              "    .colab-df-convert {\n",
              "      background-color: #E8F0FE;\n",
              "      border: none;\n",
              "      border-radius: 50%;\n",
              "      cursor: pointer;\n",
              "      display: none;\n",
              "      fill: #1967D2;\n",
              "      height: 32px;\n",
              "      padding: 0 0 0 0;\n",
              "      width: 32px;\n",
              "    }\n",
              "\n",
              "    .colab-df-convert:hover {\n",
              "      background-color: #E2EBFA;\n",
              "      box-shadow: 0px 1px 2px rgba(60, 64, 67, 0.3), 0px 1px 3px 1px rgba(60, 64, 67, 0.15);\n",
              "      fill: #174EA6;\n",
              "    }\n",
              "\n",
              "    .colab-df-buttons div {\n",
              "      margin-bottom: 4px;\n",
              "    }\n",
              "\n",
              "    [theme=dark] .colab-df-convert {\n",
              "      background-color: #3B4455;\n",
              "      fill: #D2E3FC;\n",
              "    }\n",
              "\n",
              "    [theme=dark] .colab-df-convert:hover {\n",
              "      background-color: #434B5C;\n",
              "      box-shadow: 0px 1px 3px 1px rgba(0, 0, 0, 0.15);\n",
              "      filter: drop-shadow(0px 1px 2px rgba(0, 0, 0, 0.3));\n",
              "      fill: #FFFFFF;\n",
              "    }\n",
              "  </style>\n",
              "\n",
              "    <script>\n",
              "      const buttonEl =\n",
              "        document.querySelector('#df-c236d562-7ca3-4664-9d55-f965ba730fc6 button.colab-df-convert');\n",
              "      buttonEl.style.display =\n",
              "        google.colab.kernel.accessAllowed ? 'block' : 'none';\n",
              "\n",
              "      async function convertToInteractive(key) {\n",
              "        const element = document.querySelector('#df-c236d562-7ca3-4664-9d55-f965ba730fc6');\n",
              "        const dataTable =\n",
              "          await google.colab.kernel.invokeFunction('convertToInteractive',\n",
              "                                                    [key], {});\n",
              "        if (!dataTable) return;\n",
              "\n",
              "        const docLinkHtml = 'Like what you see? Visit the ' +\n",
              "          '<a target=\"_blank\" href=https://colab.research.google.com/notebooks/data_table.ipynb>data table notebook</a>'\n",
              "          + ' to learn more about interactive tables.';\n",
              "        element.innerHTML = '';\n",
              "        dataTable['output_type'] = 'display_data';\n",
              "        await google.colab.output.renderOutput(dataTable, element);\n",
              "        const docLink = document.createElement('div');\n",
              "        docLink.innerHTML = docLinkHtml;\n",
              "        element.appendChild(docLink);\n",
              "      }\n",
              "    </script>\n",
              "  </div>\n",
              "\n",
              "\n",
              "<div id=\"df-b08f437d-bc74-49a4-a48c-b43147abac7b\">\n",
              "  <button class=\"colab-df-quickchart\" onclick=\"quickchart('df-b08f437d-bc74-49a4-a48c-b43147abac7b')\"\n",
              "            title=\"Suggest charts\"\n",
              "            style=\"display:none;\">\n",
              "\n",
              "<svg xmlns=\"http://www.w3.org/2000/svg\" height=\"24px\"viewBox=\"0 0 24 24\"\n",
              "     width=\"24px\">\n",
              "    <g>\n",
              "        <path d=\"M19 3H5c-1.1 0-2 .9-2 2v14c0 1.1.9 2 2 2h14c1.1 0 2-.9 2-2V5c0-1.1-.9-2-2-2zM9 17H7v-7h2v7zm4 0h-2V7h2v10zm4 0h-2v-4h2v4z\"/>\n",
              "    </g>\n",
              "</svg>\n",
              "  </button>\n",
              "\n",
              "<style>\n",
              "  .colab-df-quickchart {\n",
              "      --bg-color: #E8F0FE;\n",
              "      --fill-color: #1967D2;\n",
              "      --hover-bg-color: #E2EBFA;\n",
              "      --hover-fill-color: #174EA6;\n",
              "      --disabled-fill-color: #AAA;\n",
              "      --disabled-bg-color: #DDD;\n",
              "  }\n",
              "\n",
              "  [theme=dark] .colab-df-quickchart {\n",
              "      --bg-color: #3B4455;\n",
              "      --fill-color: #D2E3FC;\n",
              "      --hover-bg-color: #434B5C;\n",
              "      --hover-fill-color: #FFFFFF;\n",
              "      --disabled-bg-color: #3B4455;\n",
              "      --disabled-fill-color: #666;\n",
              "  }\n",
              "\n",
              "  .colab-df-quickchart {\n",
              "    background-color: var(--bg-color);\n",
              "    border: none;\n",
              "    border-radius: 50%;\n",
              "    cursor: pointer;\n",
              "    display: none;\n",
              "    fill: var(--fill-color);\n",
              "    height: 32px;\n",
              "    padding: 0;\n",
              "    width: 32px;\n",
              "  }\n",
              "\n",
              "  .colab-df-quickchart:hover {\n",
              "    background-color: var(--hover-bg-color);\n",
              "    box-shadow: 0 1px 2px rgba(60, 64, 67, 0.3), 0 1px 3px 1px rgba(60, 64, 67, 0.15);\n",
              "    fill: var(--button-hover-fill-color);\n",
              "  }\n",
              "\n",
              "  .colab-df-quickchart-complete:disabled,\n",
              "  .colab-df-quickchart-complete:disabled:hover {\n",
              "    background-color: var(--disabled-bg-color);\n",
              "    fill: var(--disabled-fill-color);\n",
              "    box-shadow: none;\n",
              "  }\n",
              "\n",
              "  .colab-df-spinner {\n",
              "    border: 2px solid var(--fill-color);\n",
              "    border-color: transparent;\n",
              "    border-bottom-color: var(--fill-color);\n",
              "    animation:\n",
              "      spin 1s steps(1) infinite;\n",
              "  }\n",
              "\n",
              "  @keyframes spin {\n",
              "    0% {\n",
              "      border-color: transparent;\n",
              "      border-bottom-color: var(--fill-color);\n",
              "      border-left-color: var(--fill-color);\n",
              "    }\n",
              "    20% {\n",
              "      border-color: transparent;\n",
              "      border-left-color: var(--fill-color);\n",
              "      border-top-color: var(--fill-color);\n",
              "    }\n",
              "    30% {\n",
              "      border-color: transparent;\n",
              "      border-left-color: var(--fill-color);\n",
              "      border-top-color: var(--fill-color);\n",
              "      border-right-color: var(--fill-color);\n",
              "    }\n",
              "    40% {\n",
              "      border-color: transparent;\n",
              "      border-right-color: var(--fill-color);\n",
              "      border-top-color: var(--fill-color);\n",
              "    }\n",
              "    60% {\n",
              "      border-color: transparent;\n",
              "      border-right-color: var(--fill-color);\n",
              "    }\n",
              "    80% {\n",
              "      border-color: transparent;\n",
              "      border-right-color: var(--fill-color);\n",
              "      border-bottom-color: var(--fill-color);\n",
              "    }\n",
              "    90% {\n",
              "      border-color: transparent;\n",
              "      border-bottom-color: var(--fill-color);\n",
              "    }\n",
              "  }\n",
              "</style>\n",
              "\n",
              "  <script>\n",
              "    async function quickchart(key) {\n",
              "      const quickchartButtonEl =\n",
              "        document.querySelector('#' + key + ' button');\n",
              "      quickchartButtonEl.disabled = true;  // To prevent multiple clicks.\n",
              "      quickchartButtonEl.classList.add('colab-df-spinner');\n",
              "      try {\n",
              "        const charts = await google.colab.kernel.invokeFunction(\n",
              "            'suggestCharts', [key], {});\n",
              "      } catch (error) {\n",
              "        console.error('Error during call to suggestCharts:', error);\n",
              "      }\n",
              "      quickchartButtonEl.classList.remove('colab-df-spinner');\n",
              "      quickchartButtonEl.classList.add('colab-df-quickchart-complete');\n",
              "    }\n",
              "    (() => {\n",
              "      let quickchartButtonEl =\n",
              "        document.querySelector('#df-b08f437d-bc74-49a4-a48c-b43147abac7b button');\n",
              "      quickchartButtonEl.style.display =\n",
              "        google.colab.kernel.accessAllowed ? 'block' : 'none';\n",
              "    })();\n",
              "  </script>\n",
              "</div>\n",
              "\n",
              "    </div>\n",
              "  </div>\n"
            ],
            "application/vnd.google.colaboratory.intrinsic+json": {
              "type": "dataframe",
              "variable_name": "test_df",
              "summary": "{\n  \"name\": \"test_df\",\n  \"rows\": 58921,\n  \"fields\": [\n    {\n      \"column\": \"id\",\n      \"properties\": {\n        \"dtype\": \"number\",\n        \"std\": 17009,\n        \"min\": 1,\n        \"max\": 58921,\n        \"num_unique_values\": 58921,\n        \"samples\": [\n          28814,\n          47327,\n          11007\n        ],\n        \"semantic_type\": \"\",\n        \"description\": \"\"\n      }\n    },\n    {\n      \"column\": \"RESOURCE\",\n      \"properties\": {\n        \"dtype\": \"number\",\n        \"std\": 33717,\n        \"min\": 0,\n        \"max\": 312136,\n        \"num_unique_values\": 4971,\n        \"samples\": [\n          45481,\n          75440,\n          36386\n        ],\n        \"semantic_type\": \"\",\n        \"description\": \"\"\n      }\n    },\n    {\n      \"column\": \"MGR_ID\",\n      \"properties\": {\n        \"dtype\": \"number\",\n        \"std\": 35110,\n        \"min\": 25,\n        \"max\": 311779,\n        \"num_unique_values\": 4689,\n        \"samples\": [\n          7346,\n          113106,\n          17110\n        ],\n        \"semantic_type\": \"\",\n        \"description\": \"\"\n      }\n    },\n    {\n      \"column\": \"ROLE_ROLLUP_1\",\n      \"properties\": {\n        \"dtype\": \"number\",\n        \"std\": 10805,\n        \"min\": 4292,\n        \"max\": 311178,\n        \"num_unique_values\": 126,\n        \"samples\": [\n          118269,\n          118090,\n          206349\n        ],\n        \"semantic_type\": \"\",\n        \"description\": \"\"\n      }\n    },\n    {\n      \"column\": \"ROLE_ROLLUP_2\",\n      \"properties\": {\n        \"dtype\": \"number\",\n        \"std\": 4284,\n        \"min\": 23779,\n        \"max\": 194897,\n        \"num_unique_values\": 177,\n        \"samples\": [\n          118743,\n          118011,\n          120811\n        ],\n        \"semantic_type\": \"\",\n        \"description\": \"\"\n      }\n    },\n    {\n      \"column\": \"ROLE_DEPTNAME\",\n      \"properties\": {\n        \"dtype\": \"number\",\n        \"std\": 17916,\n        \"min\": 4674,\n        \"max\": 277693,\n        \"num_unique_values\": 466,\n        \"samples\": [\n          118437,\n          123055,\n          117941\n        ],\n        \"semantic_type\": \"\",\n        \"description\": \"\"\n      }\n    },\n    {\n      \"column\": \"ROLE_TITLE\",\n      \"properties\": {\n        \"dtype\": \"number\",\n        \"std\": 32068,\n        \"min\": 117879,\n        \"max\": 311867,\n        \"num_unique_values\": 351,\n        \"samples\": [\n          118459,\n          127589,\n          153082\n        ],\n        \"semantic_type\": \"\",\n        \"description\": \"\"\n      }\n    },\n    {\n      \"column\": \"ROLE_FAMILY_DESC\",\n      \"properties\": {\n        \"dtype\": \"number\",\n        \"std\": 69684,\n        \"min\": 4673,\n        \"max\": 311867,\n        \"num_unique_values\": 2749,\n        \"samples\": [\n          122324,\n          131320,\n          198341\n        ],\n        \"semantic_type\": \"\",\n        \"description\": \"\"\n      }\n    },\n    {\n      \"column\": \"ROLE_FAMILY\",\n      \"properties\": {\n        \"dtype\": \"number\",\n        \"std\": 99639,\n        \"min\": 3130,\n        \"max\": 308574,\n        \"num_unique_values\": 68,\n        \"samples\": [\n          120134,\n          4673,\n          118424\n        ],\n        \"semantic_type\": \"\",\n        \"description\": \"\"\n      }\n    },\n    {\n      \"column\": \"ROLE_CODE\",\n      \"properties\": {\n        \"dtype\": \"number\",\n        \"std\": 5326,\n        \"min\": 117880,\n        \"max\": 270691,\n        \"num_unique_values\": 351,\n        \"samples\": [\n          118461,\n          127590,\n          153084\n        ],\n        \"semantic_type\": \"\",\n        \"description\": \"\"\n      }\n    }\n  ]\n}"
            }
          },
          "metadata": {},
          "execution_count": 8
        }
      ]
    },
    {
      "metadata": {
        "id": "6lO9JTCM3cqP"
      },
      "cell_type": "markdown",
      "source": [
        "### **View summary of dataframe**"
      ]
    },
    {
      "metadata": {
        "trusted": true,
        "id": "yUKbcbXp3cqQ",
        "colab": {
          "base_uri": "https://localhost:8080/"
        },
        "outputId": "17b94247-61d9-480c-ffc0-bfe914c1e660"
      },
      "cell_type": "code",
      "source": [
        "train_df.info()"
      ],
      "execution_count": 9,
      "outputs": [
        {
          "output_type": "stream",
          "name": "stdout",
          "text": [
            "<class 'pandas.core.frame.DataFrame'>\n",
            "RangeIndex: 32769 entries, 0 to 32768\n",
            "Data columns (total 10 columns):\n",
            " #   Column            Non-Null Count  Dtype\n",
            "---  ------            --------------  -----\n",
            " 0   ACTION            32769 non-null  int64\n",
            " 1   RESOURCE          32769 non-null  int64\n",
            " 2   MGR_ID            32769 non-null  int64\n",
            " 3   ROLE_ROLLUP_1     32769 non-null  int64\n",
            " 4   ROLE_ROLLUP_2     32769 non-null  int64\n",
            " 5   ROLE_DEPTNAME     32769 non-null  int64\n",
            " 6   ROLE_TITLE        32769 non-null  int64\n",
            " 7   ROLE_FAMILY_DESC  32769 non-null  int64\n",
            " 8   ROLE_FAMILY       32769 non-null  int64\n",
            " 9   ROLE_CODE         32769 non-null  int64\n",
            "dtypes: int64(10)\n",
            "memory usage: 2.5 MB\n"
          ]
        }
      ]
    },
    {
      "metadata": {
        "trusted": true,
        "id": "NcInMKvm3cqQ",
        "colab": {
          "base_uri": "https://localhost:8080/"
        },
        "outputId": "12c245ad-1a31-4dae-ba74-0a6e42f0df28"
      },
      "cell_type": "code",
      "source": [
        "test_df.info()"
      ],
      "execution_count": 10,
      "outputs": [
        {
          "output_type": "stream",
          "name": "stdout",
          "text": [
            "<class 'pandas.core.frame.DataFrame'>\n",
            "RangeIndex: 58921 entries, 0 to 58920\n",
            "Data columns (total 10 columns):\n",
            " #   Column            Non-Null Count  Dtype\n",
            "---  ------            --------------  -----\n",
            " 0   id                58921 non-null  int64\n",
            " 1   RESOURCE          58921 non-null  int64\n",
            " 2   MGR_ID            58921 non-null  int64\n",
            " 3   ROLE_ROLLUP_1     58921 non-null  int64\n",
            " 4   ROLE_ROLLUP_2     58921 non-null  int64\n",
            " 5   ROLE_DEPTNAME     58921 non-null  int64\n",
            " 6   ROLE_TITLE        58921 non-null  int64\n",
            " 7   ROLE_FAMILY_DESC  58921 non-null  int64\n",
            " 8   ROLE_FAMILY       58921 non-null  int64\n",
            " 9   ROLE_CODE         58921 non-null  int64\n",
            "dtypes: int64(10)\n",
            "memory usage: 4.5 MB\n"
          ]
        }
      ]
    },
    {
      "metadata": {
        "id": "ICN5nt3r3cqQ"
      },
      "cell_type": "markdown",
      "source": [
        "We can see that there are no missing values in the dataset."
      ]
    },
    {
      "metadata": {
        "id": "lNYXQwXE3cqQ"
      },
      "cell_type": "markdown",
      "source": [
        "### **View unique values in dataset**"
      ]
    },
    {
      "metadata": {
        "trusted": true,
        "id": "jz_cJNjG3cqQ",
        "colab": {
          "base_uri": "https://localhost:8080/",
          "height": 398
        },
        "outputId": "47cfc27a-ad28-4e57-ebc8-ff7e044dc00b"
      },
      "cell_type": "code",
      "source": [
        "train_df.nunique()"
      ],
      "execution_count": 11,
      "outputs": [
        {
          "output_type": "execute_result",
          "data": {
            "text/plain": [
              "ACTION                 2\n",
              "RESOURCE            7518\n",
              "MGR_ID              4243\n",
              "ROLE_ROLLUP_1        128\n",
              "ROLE_ROLLUP_2        177\n",
              "ROLE_DEPTNAME        449\n",
              "ROLE_TITLE           343\n",
              "ROLE_FAMILY_DESC    2358\n",
              "ROLE_FAMILY           67\n",
              "ROLE_CODE            343\n",
              "dtype: int64"
            ],
            "text/html": [
              "<div>\n",
              "<style scoped>\n",
              "    .dataframe tbody tr th:only-of-type {\n",
              "        vertical-align: middle;\n",
              "    }\n",
              "\n",
              "    .dataframe tbody tr th {\n",
              "        vertical-align: top;\n",
              "    }\n",
              "\n",
              "    .dataframe thead th {\n",
              "        text-align: right;\n",
              "    }\n",
              "</style>\n",
              "<table border=\"1\" class=\"dataframe\">\n",
              "  <thead>\n",
              "    <tr style=\"text-align: right;\">\n",
              "      <th></th>\n",
              "      <th>0</th>\n",
              "    </tr>\n",
              "  </thead>\n",
              "  <tbody>\n",
              "    <tr>\n",
              "      <th>ACTION</th>\n",
              "      <td>2</td>\n",
              "    </tr>\n",
              "    <tr>\n",
              "      <th>RESOURCE</th>\n",
              "      <td>7518</td>\n",
              "    </tr>\n",
              "    <tr>\n",
              "      <th>MGR_ID</th>\n",
              "      <td>4243</td>\n",
              "    </tr>\n",
              "    <tr>\n",
              "      <th>ROLE_ROLLUP_1</th>\n",
              "      <td>128</td>\n",
              "    </tr>\n",
              "    <tr>\n",
              "      <th>ROLE_ROLLUP_2</th>\n",
              "      <td>177</td>\n",
              "    </tr>\n",
              "    <tr>\n",
              "      <th>ROLE_DEPTNAME</th>\n",
              "      <td>449</td>\n",
              "    </tr>\n",
              "    <tr>\n",
              "      <th>ROLE_TITLE</th>\n",
              "      <td>343</td>\n",
              "    </tr>\n",
              "    <tr>\n",
              "      <th>ROLE_FAMILY_DESC</th>\n",
              "      <td>2358</td>\n",
              "    </tr>\n",
              "    <tr>\n",
              "      <th>ROLE_FAMILY</th>\n",
              "      <td>67</td>\n",
              "    </tr>\n",
              "    <tr>\n",
              "      <th>ROLE_CODE</th>\n",
              "      <td>343</td>\n",
              "    </tr>\n",
              "  </tbody>\n",
              "</table>\n",
              "</div><br><label><b>dtype:</b> int64</label>"
            ]
          },
          "metadata": {},
          "execution_count": 11
        }
      ]
    },
    {
      "metadata": {
        "trusted": true,
        "id": "5pwHoJzV3cqQ",
        "colab": {
          "base_uri": "https://localhost:8080/",
          "height": 398
        },
        "outputId": "a088c1d0-b54a-4f98-cf41-8a9f0192736c"
      },
      "cell_type": "code",
      "source": [
        "test_df.nunique()"
      ],
      "execution_count": 12,
      "outputs": [
        {
          "output_type": "execute_result",
          "data": {
            "text/plain": [
              "id                  58921\n",
              "RESOURCE             4971\n",
              "MGR_ID               4689\n",
              "ROLE_ROLLUP_1         126\n",
              "ROLE_ROLLUP_2         177\n",
              "ROLE_DEPTNAME         466\n",
              "ROLE_TITLE            351\n",
              "ROLE_FAMILY_DESC     2749\n",
              "ROLE_FAMILY            68\n",
              "ROLE_CODE             351\n",
              "dtype: int64"
            ],
            "text/html": [
              "<div>\n",
              "<style scoped>\n",
              "    .dataframe tbody tr th:only-of-type {\n",
              "        vertical-align: middle;\n",
              "    }\n",
              "\n",
              "    .dataframe tbody tr th {\n",
              "        vertical-align: top;\n",
              "    }\n",
              "\n",
              "    .dataframe thead th {\n",
              "        text-align: right;\n",
              "    }\n",
              "</style>\n",
              "<table border=\"1\" class=\"dataframe\">\n",
              "  <thead>\n",
              "    <tr style=\"text-align: right;\">\n",
              "      <th></th>\n",
              "      <th>0</th>\n",
              "    </tr>\n",
              "  </thead>\n",
              "  <tbody>\n",
              "    <tr>\n",
              "      <th>id</th>\n",
              "      <td>58921</td>\n",
              "    </tr>\n",
              "    <tr>\n",
              "      <th>RESOURCE</th>\n",
              "      <td>4971</td>\n",
              "    </tr>\n",
              "    <tr>\n",
              "      <th>MGR_ID</th>\n",
              "      <td>4689</td>\n",
              "    </tr>\n",
              "    <tr>\n",
              "      <th>ROLE_ROLLUP_1</th>\n",
              "      <td>126</td>\n",
              "    </tr>\n",
              "    <tr>\n",
              "      <th>ROLE_ROLLUP_2</th>\n",
              "      <td>177</td>\n",
              "    </tr>\n",
              "    <tr>\n",
              "      <th>ROLE_DEPTNAME</th>\n",
              "      <td>466</td>\n",
              "    </tr>\n",
              "    <tr>\n",
              "      <th>ROLE_TITLE</th>\n",
              "      <td>351</td>\n",
              "    </tr>\n",
              "    <tr>\n",
              "      <th>ROLE_FAMILY_DESC</th>\n",
              "      <td>2749</td>\n",
              "    </tr>\n",
              "    <tr>\n",
              "      <th>ROLE_FAMILY</th>\n",
              "      <td>68</td>\n",
              "    </tr>\n",
              "    <tr>\n",
              "      <th>ROLE_CODE</th>\n",
              "      <td>351</td>\n",
              "    </tr>\n",
              "  </tbody>\n",
              "</table>\n",
              "</div><br><label><b>dtype:</b> int64</label>"
            ]
          },
          "metadata": {},
          "execution_count": 12
        }
      ]
    },
    {
      "metadata": {
        "trusted": true,
        "id": "YlY7hhLT3cqQ"
      },
      "cell_type": "markdown",
      "source": [
        "### **Findings of EDA**\n",
        "\n",
        "- All the features are categorical.\n",
        "\n",
        "- The categorical features have a lot of unique values, we won't use one hot encoding, but depending on the dataset it may be a good idea to adjust one_hot_max_size.\n",
        "\n",
        "- There are no missing values in the dataset."
      ]
    },
    {
      "metadata": {
        "id": "vw6yoGJw3cqQ"
      },
      "cell_type": "markdown",
      "source": [
        "### **4.4 Data Preparation** <a class=\"anchor\" id=\"4.4\"></a>\n",
        "\n",
        "\n"
      ]
    },
    {
      "metadata": {
        "id": "1N6NpYDv3cqQ"
      },
      "cell_type": "markdown",
      "source": [
        "### **Declare feature vector and target variable**"
      ]
    },
    {
      "metadata": {
        "trusted": true,
        "id": "DPrp0Gvz3cqQ"
      },
      "cell_type": "code",
      "source": [
        "X = train_df.drop(\"ACTION\", axis=1)\n",
        "y = train_df[\"ACTION\"]\n"
      ],
      "execution_count": 13,
      "outputs": []
    },
    {
      "metadata": {
        "id": "trNh5Je_3cqQ"
      },
      "cell_type": "markdown",
      "source": [
        "### Categorical features declaration"
      ]
    },
    {
      "metadata": {
        "trusted": true,
        "id": "dLCgfaTN3cqQ",
        "colab": {
          "base_uri": "https://localhost:8080/"
        },
        "outputId": "f815ab8b-8010-4568-f6bf-2c5987d940d1"
      },
      "cell_type": "code",
      "source": [
        "cat_features = list(range(0, X.shape[1]))\n",
        "print(cat_features)"
      ],
      "execution_count": 14,
      "outputs": [
        {
          "output_type": "stream",
          "name": "stdout",
          "text": [
            "[0, 1, 2, 3, 4, 5, 6, 7, 8]\n"
          ]
        }
      ]
    },
    {
      "metadata": {
        "id": "mfxI5Q5k3cqR"
      },
      "cell_type": "markdown",
      "source": [
        "### 4.5 **Split data into train and validation set** <a class=\"anchor\" id=\"4.5\"></a>\n",
        "\n",
        "\n"
      ]
    },
    {
      "metadata": {
        "trusted": true,
        "id": "M6kVxHNe3cqR"
      },
      "cell_type": "code",
      "source": [
        "from sklearn.model_selection import train_test_split\n",
        "\n",
        "X_train, X_val, y_train, y_val = train_test_split(X, y, test_size=0.2, random_state=0)"
      ],
      "execution_count": 15,
      "outputs": []
    },
    {
      "metadata": {
        "id": "MAYWwH-43cqR"
      },
      "cell_type": "markdown",
      "source": [
        "### **4.6 CatBoost implementation** <a class=\"anchor\" id=\"4.6\"></a>\n",
        "\n",
        "\n"
      ]
    },
    {
      "source": [
        "!pip install catboost"
      ],
      "cell_type": "code",
      "metadata": {
        "colab": {
          "base_uri": "https://localhost:8080/"
        },
        "id": "8uamKZ2SD8eq",
        "outputId": "5bd5d78f-a2f7-4b37-f897-a478e73de1e3"
      },
      "execution_count": 17,
      "outputs": [
        {
          "output_type": "stream",
          "name": "stdout",
          "text": [
            "Collecting catboost\n",
            "  Downloading catboost-1.2.7-cp310-cp310-manylinux2014_x86_64.whl.metadata (1.2 kB)\n",
            "Requirement already satisfied: graphviz in /usr/local/lib/python3.10/dist-packages (from catboost) (0.20.3)\n",
            "Requirement already satisfied: matplotlib in /usr/local/lib/python3.10/dist-packages (from catboost) (3.8.0)\n",
            "Requirement already satisfied: numpy<2.0,>=1.16.0 in /usr/local/lib/python3.10/dist-packages (from catboost) (1.26.4)\n",
            "Requirement already satisfied: pandas>=0.24 in /usr/local/lib/python3.10/dist-packages (from catboost) (2.2.2)\n",
            "Requirement already satisfied: scipy in /usr/local/lib/python3.10/dist-packages (from catboost) (1.13.1)\n",
            "Requirement already satisfied: plotly in /usr/local/lib/python3.10/dist-packages (from catboost) (5.24.1)\n",
            "Requirement already satisfied: six in /usr/local/lib/python3.10/dist-packages (from catboost) (1.17.0)\n",
            "Requirement already satisfied: python-dateutil>=2.8.2 in /usr/local/lib/python3.10/dist-packages (from pandas>=0.24->catboost) (2.8.2)\n",
            "Requirement already satisfied: pytz>=2020.1 in /usr/local/lib/python3.10/dist-packages (from pandas>=0.24->catboost) (2024.2)\n",
            "Requirement already satisfied: tzdata>=2022.7 in /usr/local/lib/python3.10/dist-packages (from pandas>=0.24->catboost) (2024.2)\n",
            "Requirement already satisfied: contourpy>=1.0.1 in /usr/local/lib/python3.10/dist-packages (from matplotlib->catboost) (1.3.1)\n",
            "Requirement already satisfied: cycler>=0.10 in /usr/local/lib/python3.10/dist-packages (from matplotlib->catboost) (0.12.1)\n",
            "Requirement already satisfied: fonttools>=4.22.0 in /usr/local/lib/python3.10/dist-packages (from matplotlib->catboost) (4.55.2)\n",
            "Requirement already satisfied: kiwisolver>=1.0.1 in /usr/local/lib/python3.10/dist-packages (from matplotlib->catboost) (1.4.7)\n",
            "Requirement already satisfied: packaging>=20.0 in /usr/local/lib/python3.10/dist-packages (from matplotlib->catboost) (24.2)\n",
            "Requirement already satisfied: pillow>=6.2.0 in /usr/local/lib/python3.10/dist-packages (from matplotlib->catboost) (11.0.0)\n",
            "Requirement already satisfied: pyparsing>=2.3.1 in /usr/local/lib/python3.10/dist-packages (from matplotlib->catboost) (3.2.0)\n",
            "Requirement already satisfied: tenacity>=6.2.0 in /usr/local/lib/python3.10/dist-packages (from plotly->catboost) (9.0.0)\n",
            "Downloading catboost-1.2.7-cp310-cp310-manylinux2014_x86_64.whl (98.7 MB)\n",
            "\u001b[2K   \u001b[90m━━━━━━━━━━━━━━━━━━━━━━━━━━━━━━━━━━━━━━━━\u001b[0m \u001b[32m98.7/98.7 MB\u001b[0m \u001b[31m8.6 MB/s\u001b[0m eta \u001b[36m0:00:00\u001b[0m\n",
            "\u001b[?25hInstalling collected packages: catboost\n",
            "Successfully installed catboost-1.2.7\n"
          ]
        }
      ]
    },
    {
      "metadata": {
        "trusted": true,
        "id": "4k7arUTK3cqR",
        "colab": {
          "base_uri": "https://localhost:8080/"
        },
        "outputId": "decb7a79-5fe5-4c1e-d7c9-85a10ef17efd"
      },
      "cell_type": "code",
      "source": [
        "from catboost import CatBoostClassifier\n",
        "\n",
        "clf = CatBoostClassifier(\n",
        "    iterations=5,\n",
        "    learning_rate=0.1,\n",
        "    #loss_function='CrossEntropy'\n",
        ")\n",
        "\n",
        "\n",
        "clf.fit(X_train, y_train,\n",
        "        cat_features=cat_features,\n",
        "        eval_set=(X_val, y_val),\n",
        "        verbose=False\n",
        ")\n",
        "\n",
        "print('CatBoost model is fitted: ' + str(clf.is_fitted()))\n",
        "print('CatBoost model parameters:')\n",
        "print(clf.get_params())"
      ],
      "execution_count": 18,
      "outputs": [
        {
          "output_type": "stream",
          "name": "stdout",
          "text": [
            "CatBoost model is fitted: True\n",
            "CatBoost model parameters:\n",
            "{'iterations': 5, 'learning_rate': 0.1}\n"
          ]
        }
      ]
    },
    {
      "metadata": {
        "id": "VUP9lsC53cqR"
      },
      "cell_type": "markdown",
      "source": [
        "### **4.7 Stdout of the training**  <a class=\"anchor\" id=\"4.7\"></a>\n",
        "\n",
        "\n",
        "\n",
        "- **Stdout** stands for Standard Output in Python."
      ]
    },
    {
      "metadata": {
        "trusted": true,
        "id": "jSiA05Tz3cqR",
        "colab": {
          "base_uri": "https://localhost:8080/"
        },
        "outputId": "1ae93303-57e7-4d7a-caf7-211b7ec50453"
      },
      "cell_type": "code",
      "source": [
        "from catboost import CatBoostClassifier\n",
        "clf = CatBoostClassifier(\n",
        "    iterations=10,\n",
        "#     verbose=5,\n",
        ")\n",
        "\n",
        "clf.fit(\n",
        "    X_train, y_train,\n",
        "    cat_features=cat_features,\n",
        "    eval_set=(X_val, y_val),\n",
        ")"
      ],
      "execution_count": 19,
      "outputs": [
        {
          "output_type": "stream",
          "name": "stdout",
          "text": [
            "Learning rate set to 0.5\n",
            "0:\tlearn: 0.3971379\ttest: 0.3960691\tbest: 0.3960691 (0)\ttotal: 42.4ms\tremaining: 382ms\n",
            "1:\tlearn: 0.2948071\ttest: 0.2924021\tbest: 0.2924021 (1)\ttotal: 96ms\tremaining: 384ms\n",
            "2:\tlearn: 0.2485317\ttest: 0.2454599\tbest: 0.2454599 (2)\ttotal: 141ms\tremaining: 329ms\n",
            "3:\tlearn: 0.2234301\ttest: 0.2191836\tbest: 0.2191836 (3)\ttotal: 200ms\tremaining: 300ms\n",
            "4:\tlearn: 0.1999100\ttest: 0.1935203\tbest: 0.1935203 (4)\ttotal: 246ms\tremaining: 246ms\n",
            "5:\tlearn: 0.1911956\ttest: 0.1831193\tbest: 0.1831193 (5)\ttotal: 278ms\tremaining: 185ms\n",
            "6:\tlearn: 0.1854231\ttest: 0.1763719\tbest: 0.1763719 (6)\ttotal: 335ms\tremaining: 143ms\n",
            "7:\tlearn: 0.1818392\ttest: 0.1732419\tbest: 0.1732419 (7)\ttotal: 383ms\tremaining: 95.7ms\n",
            "8:\tlearn: 0.1789139\ttest: 0.1679366\tbest: 0.1679366 (8)\ttotal: 413ms\tremaining: 45.9ms\n",
            "9:\tlearn: 0.1777264\ttest: 0.1656210\tbest: 0.1656210 (9)\ttotal: 453ms\tremaining: 0us\n",
            "\n",
            "bestTest = 0.1656210392\n",
            "bestIteration = 9\n",
            "\n"
          ]
        },
        {
          "output_type": "execute_result",
          "data": {
            "text/plain": [
              "<catboost.core.CatBoostClassifier at 0x7cba8a551de0>"
            ]
          },
          "metadata": {},
          "execution_count": 19
        }
      ]
    },
    {
      "metadata": {
        "id": "wxSWE1Lv3cqV"
      },
      "cell_type": "markdown",
      "source": [
        "### **4.8 Model predictions** <a class=\"anchor\" id=\"4.8\"></a>\n",
        "\n"
      ]
    },
    {
      "metadata": {
        "trusted": true,
        "id": "Bqfn_AFM3cqV",
        "colab": {
          "base_uri": "https://localhost:8080/"
        },
        "outputId": "e7f4d70f-a6ec-481e-9238-794b048ae377"
      },
      "cell_type": "code",
      "source": [
        "print(clf.predict_proba(X_val))"
      ],
      "execution_count": 21,
      "outputs": [
        {
          "output_type": "stream",
          "name": "stdout",
          "text": [
            "[[0.02985352 0.97014648]\n",
            " [0.01955598 0.98044402]\n",
            " [0.01780024 0.98219976]\n",
            " ...\n",
            " [0.04551625 0.95448375]\n",
            " [0.11208538 0.88791462]\n",
            " [0.02216136 0.97783864]]\n"
          ]
        }
      ]
    },
    {
      "metadata": {
        "trusted": true,
        "id": "I5dCaLkB3cqV",
        "colab": {
          "base_uri": "https://localhost:8080/"
        },
        "outputId": "2390d7a8-0c0e-4eb5-e2ab-557ec8d858dd"
      },
      "cell_type": "code",
      "source": [
        "print(clf.predict(X_val))"
      ],
      "execution_count": 22,
      "outputs": [
        {
          "output_type": "stream",
          "name": "stdout",
          "text": [
            "[1 1 1 ... 1 1 1]\n"
          ]
        }
      ]
    },
    {
      "metadata": {
        "id": "iw9P6PEI3cqV"
      },
      "cell_type": "markdown",
      "source": [
        "### **4.9 Metrics calculation and graph plotting** <a class=\"anchor\" id=\"4.9\"></a>\n",
        "\n"
      ]
    },
    {
      "metadata": {
        "trusted": true,
        "id": "Vc9I9FdC3cqW",
        "colab": {
          "base_uri": "https://localhost:8080/",
          "height": 34,
          "referenced_widgets": [
            "7ceacb42c74047fca775e6cf50e34b83"
          ]
        },
        "outputId": "a939fb95-021a-41b1-914c-42dbe2053ecc"
      },
      "cell_type": "code",
      "source": [
        "from catboost import CatBoostClassifier\n",
        "\n",
        "clf = CatBoostClassifier(\n",
        "    iterations=50,\n",
        "    random_seed=42,\n",
        "    learning_rate=0.5,\n",
        "    custom_loss=['AUC', 'Accuracy']\n",
        ")\n",
        "\n",
        "clf.fit(\n",
        "    X_train, y_train,\n",
        "    cat_features=cat_features,\n",
        "    eval_set=(X_val, y_val),\n",
        "    verbose=False,\n",
        "    plot=True\n",
        ")"
      ],
      "execution_count": 37,
      "outputs": [
        {
          "output_type": "display_data",
          "data": {
            "text/plain": [
              "MetricVisualizer(layout=Layout(align_self='stretch', height='500px'))"
            ],
            "application/vnd.jupyter.widget-view+json": {
              "version_major": 2,
              "version_minor": 0,
              "model_id": "7ceacb42c74047fca775e6cf50e34b83"
            }
          },
          "metadata": {}
        },
        {
          "output_type": "execute_result",
          "data": {
            "text/plain": [
              "<catboost.core.CatBoostClassifier at 0x7cba89966fb0>"
            ]
          },
          "metadata": {},
          "execution_count": 37
        }
      ]
    },
    {
      "source": [
        "# Get the loss values for the training and validation sets\n",
        "train_loss = clf.get_evals_result()['learn']['Logloss']\n",
        "val_loss = clf.get_evals_result()['validation']['Logloss']\n",
        "\n",
        "# Print or plot the loss values\n",
        "print(f\"Training Loss: {train_loss}\")\n",
        "print(f\"Validation Loss: {val_loss}\")"
      ],
      "cell_type": "code",
      "metadata": {
        "colab": {
          "base_uri": "https://localhost:8080/"
        },
        "id": "4jQ84KyUHmVz",
        "outputId": "f184ce4d-2b6a-4d6f-a2ab-36f44fb9a0b1"
      },
      "execution_count": 29,
      "outputs": [
        {
          "output_type": "stream",
          "name": "stdout",
          "text": [
            "Training Loss: [0.3969304953585906, 0.2933474640919105, 0.2466417254928546, 0.2142165322757052, 0.19715630795232608, 0.1893637183915301, 0.18341997994238496, 0.1817675692763587, 0.17987449455823548, 0.17714750364382495, 0.17559690034521233, 0.1752024413949654, 0.17486013331381933, 0.17430905063379457, 0.17297524131762965, 0.17263610461822354, 0.1723376425128527, 0.17174387245019673, 0.17173211485514986, 0.17169646287068024, 0.17092017933808246, 0.17027199077710994, 0.1699475401302213, 0.16925895225983895, 0.16916669100103138, 0.16912002912139862, 0.16908944814589058, 0.16843075766985982, 0.16840942928023023, 0.1683841412807354, 0.1683656323432173, 0.16816294741859408, 0.1681544779213337, 0.16753862143426373, 0.16740396979709143, 0.1673925451926624, 0.16733981453165303, 0.16724781494857371, 0.16708782249710655, 0.16682288616147933, 0.16675542599798168, 0.16665589736241704, 0.16595666754805458, 0.1659128586473469, 0.1659056553687471, 0.16585992482681677, 0.16582494186163207, 0.16578715797334764, 0.16575532693739006, 0.16571311150795767]\n",
            "Validation Loss: [0.3945769185182941, 0.28992509880454503, 0.24281631040626825, 0.20710244887842555, 0.1891439005055683, 0.18037561912792202, 0.17368674360148947, 0.17160296069658462, 0.16955556320230877, 0.16556711581902692, 0.16358757501047233, 0.16306475134593362, 0.1622077535316175, 0.16070468909205063, 0.15982365483639172, 0.15935685984213238, 0.15943276599220713, 0.1588950509726358, 0.158862073732535, 0.1587779219582824, 0.15889722342812412, 0.15762684076929054, 0.1573850379057328, 0.15704350556129384, 0.1569916436233541, 0.15693317813975752, 0.15694164368012742, 0.156696599615554, 0.156606378166234, 0.15656865713875828, 0.1565492602650292, 0.1565567013742688, 0.1565445075685477, 0.15574698023263986, 0.15583365024343557, 0.15581848086295605, 0.15585870212547492, 0.1558881398401019, 0.1559433770946154, 0.15580713452555686, 0.1558672606755232, 0.15578707092188038, 0.15620428282350443, 0.15622308051655587, 0.15624403760387834, 0.1561265171219983, 0.1561402016976567, 0.15619806338645106, 0.15625529676483724, 0.15626007390703806]\n"
          ]
        }
      ]
    },
    {
      "source": [
        "from sklearn.metrics import accuracy_score\n",
        "\n",
        "# Make predictions on the validation set\n",
        "y_pred = clf.predict(X_val)\n",
        "\n",
        "# Calculate accuracy\n",
        "accuracy = accuracy_score(y_val, y_pred)\n",
        "print(f\"Accuracy: {accuracy}\")"
      ],
      "cell_type": "code",
      "metadata": {
        "colab": {
          "base_uri": "https://localhost:8080/"
        },
        "id": "kNwa0McNHnCk",
        "outputId": "a1b13825-d308-4b39-d39d-86873f028190"
      },
      "execution_count": 30,
      "outputs": [
        {
          "output_type": "stream",
          "name": "stdout",
          "text": [
            "Accuracy: 0.9476655477570949\n"
          ]
        }
      ]
    },
    {
      "source": [
        "# Get feature importance\n",
        "feature_importance = clf.get_feature_importance()\n",
        "\n",
        "# Print feature importance\n",
        "for feature, importance in zip(X_train.columns, feature_importance):\n",
        "    print(f\"{feature}: {importance}\")"
      ],
      "cell_type": "code",
      "metadata": {
        "colab": {
          "base_uri": "https://localhost:8080/"
        },
        "id": "0Zdj6nJAHoQ9",
        "outputId": "61e6e772-9a7e-419e-caf1-bca1b715a4e5"
      },
      "execution_count": 31,
      "outputs": [
        {
          "output_type": "stream",
          "name": "stdout",
          "text": [
            "RESOURCE: 18.808315295952255\n",
            "MGR_ID: 38.705149889202616\n",
            "ROLE_ROLLUP_1: 2.7552496039364525\n",
            "ROLE_ROLLUP_2: 8.574247237441977\n",
            "ROLE_DEPTNAME: 6.044169933388906\n",
            "ROLE_TITLE: 4.632810464339024\n",
            "ROLE_FAMILY_DESC: 10.821455465487272\n",
            "ROLE_FAMILY: 3.459510158798528\n",
            "ROLE_CODE: 6.199091951452958\n"
          ]
        }
      ]
    },
    {
      "metadata": {
        "id": "VaPJL3pM3cqW"
      },
      "cell_type": "markdown",
      "source": [
        "# **5. Results and Conclusion**   <a class=\"anchor\" id=\"5\"></a>\n",
        "\n",
        "\n",
        "\n",
        "\n",
        "- In this kernel, we have discuss **CatBoost**, which is a high-performance open source library for gradient boosting on decision trees.\n",
        "\n",
        "- We have also discuss the advantages of **CatBoost** library.\n",
        "\n",
        "- We have also present the comparision between **CatBoost** and other **Boosting** algorithms.\n",
        "\n",
        "- We have also present the baseline implementation of CatBoost in Python."
      ]
    },
    {
      "metadata": {
        "id": "sU8TByCX3cqW"
      },
      "cell_type": "markdown",
      "source": [
        "So, now we will come to the end of this kernel.\n",
        "\n",
        "I hope you find this kernel useful and enjoyable.\n",
        "\n",
        "Your comments and feedback are most welcome.\n",
        "\n",
        "Thank you\n"
      ]
    },
    {
      "metadata": {
        "id": "3QqGZsXc3cqW"
      },
      "cell_type": "markdown",
      "source": [
        "[Go to Top](#0)\n",
        "\n",
        "---\n",
        "\n"
      ]
    }
  ]
}